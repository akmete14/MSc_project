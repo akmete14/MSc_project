{
 "cells": [
  {
   "cell_type": "markdown",
   "id": "e6a74fc2-50db-49fa-a1bd-b6ab46e707c3",
   "metadata": {},
   "source": [
    "Regression on synthetic data"
   ]
  },
  {
   "cell_type": "code",
   "execution_count": 1,
   "id": "eb3ee796-017f-45ea-b775-6dc9f7907caf",
   "metadata": {
    "scrolled": true
   },
   "outputs": [],
   "source": [
    "import sys\n",
    "import xarray\n",
    "import pandas as pd\n",
    "import numpy as np\n",
    "from sklearn.model_selection import train_test_split\n",
    "from sklearn.linear_model import LinearRegression\n",
    "from sklearn.metrics import mean_squared_error, r2_score"
   ]
  },
  {
   "cell_type": "code",
   "execution_count": 2,
   "id": "16dabbd9-914e-4ce7-b9b4-9c4daacc4e0c",
   "metadata": {},
   "outputs": [
    {
     "name": "stdout",
     "output_type": "stream",
     "text": [
      "Train and test data successfully created.\n"
     ]
    }
   ],
   "source": [
    "# Set random seed for reproducibility\n",
    "np.random.seed(42)\n",
    "\n",
    "# Generate synthetic data\n",
    "n_samples = 1000\n",
    "\n",
    "data = {\n",
    "    'Feature1': np.random.uniform(0, 100, n_samples),\n",
    "    'Feature2': np.random.normal(50, 10, n_samples),\n",
    "    'Feature3': np.random.randint(0, 500, n_samples),\n",
    "    'Feature4': np.random.choice([0, 1], n_samples),\n",
    "    'Feature5': np.random.normal(100, 20, n_samples),\n",
    "    'Feature6': np.random.uniform(-50, 50, n_samples),\n",
    "    'Feature7': np.random.choice([10, 20, 30, 40], n_samples),\n",
    "    'Feature8': np.random.beta(2, 5, n_samples) * 100,\n",
    "    'Feature9': np.random.exponential(5, n_samples),\n",
    "    'Target': np.random.normal(200, 50, n_samples)\n",
    "}\n",
    "\n",
    "# Create DataFrame\n",
    "df = pd.DataFrame(data)\n",
    "\n",
    "# Split into features and target\n",
    "X = df.drop(columns=['Target'])\n",
    "y = df['Target']\n",
    "\n",
    "# Perform an 80/20 split\n",
    "X_train, X_test, y_train, y_test = train_test_split(X, y, test_size=0.2, random_state=42)\n",
    "\n",
    "# Combine train and test sets for display or analysis\n",
    "train_data = pd.concat([X_train, y_train], axis=1)\n",
    "test_data = pd.concat([X_test, y_test], axis=1)\n",
    "\n",
    "# Optionally, save to CSV for future use\n",
    "# train_data.to_csv('train_data.csv', index=False)\n",
    "# test_data.to_csv('test_data.csv', index=False)\n",
    "\n",
    "print(\"Train and test data successfully created.\")\n"
   ]
  },
  {
   "cell_type": "code",
   "execution_count": 3,
   "id": "347a03d0-2ef4-4ad0-af33-e59d25932d9f",
   "metadata": {},
   "outputs": [
    {
     "name": "stdout",
     "output_type": "stream",
     "text": [
      "Model Performance:\n",
      "Mean Squared Error (MSE): 2389.327530153153\n",
      "R-squared: -0.020678536116659707\n"
     ]
    }
   ],
   "source": [
    "# Train a Linear Regression model\n",
    "regressor = LinearRegression()\n",
    "regressor.fit(X_train, y_train)\n",
    "\n",
    "# Predict on the test set\n",
    "y_pred = regressor.predict(X_test)\n",
    "\n",
    "# Evaluate the model\n",
    "mse = mean_squared_error(y_test, y_pred)\n",
    "r2 = r2_score(y_test, y_pred)\n",
    "\n",
    "print(\"Model Performance:\")\n",
    "print(f\"Mean Squared Error (MSE): {mse}\")\n",
    "print(f\"R-squared: {r2}\")"
   ]
  },
  {
   "cell_type": "markdown",
   "id": "47fe776b-a1eb-4f05-830e-f9406485b254",
   "metadata": {},
   "source": [
    "Regression on actual data"
   ]
  },
  {
   "cell_type": "code",
   "execution_count": 4,
   "id": "1e97d5ef-e25e-487c-8b19-b898088d24c8",
   "metadata": {},
   "outputs": [],
   "source": [
    "import pandas as pd\n",
    "from sklearn.model_selection import train_test_split\n",
    "from sklearn.linear_model import LinearRegression, Lasso\n",
    "from sklearn.metrics import mean_squared_error, r2_score\n",
    "import os\n",
    "import xarray as xr\n",
    "import netCDF4\n",
    "from sklearn.preprocessing import StandardScaler, MinMaxScaler\n",
    "from sklearn.model_selection import TimeSeriesSplit\n",
    "from sklearn.feature_selection import SelectFromModel\n",
    "import matplotlib.pyplot as plt"
   ]
  },
  {
   "cell_type": "code",
   "execution_count": 6,
   "id": "3036ce5a-9324-49c1-afdf-338639641819",
   "metadata": {},
   "outputs": [
    {
     "name": "stdout",
     "output_type": "stream",
     "text": [
      "DE-Hai_flux.nc DE-HoH_flux.nc\n"
     ]
    }
   ],
   "source": [
    "#Define path to data\n",
    "path = '/cluster/home/akmete/MSc/Data/'\n",
    "files = [f for f in os.listdir(path) if f.endswith('.nc')] # all files\n",
    "files.sort()\n",
    "\n",
    "\n",
    "#Get the files out of folder which have intermediate NaN's. These are: DE-Lnf, IT-Ro2, SD-Dem, US-Los, US-Syv, US-WCr, US-Wi3 and ZM-Mon\n",
    "filt_list = ['DE-Lnf_flux.nc', 'DE-Lnf_meteo.nc', 'DE-Lnf_rs.nc', 'IT-Ro2_flux.nc', 'IT-Ro2_meteo.nc', 'IT-Ro2_rs.nc', 'SD-Dem_flux.nc', 'SD-Dem_meteo.nc', 'SD-Dem_rs.nc',\n",
    "'US-Los_flux.nc', 'US-Los_meteo.nc', 'US-Los_rs.nc', 'US-Syv_flux.nc', 'US-Syv_meteo.nc', 'US-Syv_rs.nc', 'US-WCr_flux.nc', 'US-WCr_meteo.nc', 'US-WCr_rs.nc',\n",
    "        'US-Wi3_flux.nc', 'US-Wi3_meteo.nc', 'US-Wi3_rs.nc', 'ZM-Mon_flux.nc', 'ZM-Mon_meteo.nc', 'ZM-Mon_rs.nc']\n",
    "\n",
    "# Remove files that are in list\n",
    "filtered_files = [file for file in files if file not in filt_list]\n",
    "print(filtered_files[234], filtered_files[237])\n",
    "#assert len(filtered_files) % 3 == 0\n",
    "#filtered_files = {filtered_files[0+3*i][:6]: (filtered_files[0+3*i],filtered_files[1+3*i],filtered_files[2+3*i]) for i in range(len(filtered_files)//3)}\n",
    "#print(len(filtered_files))"
   ]
  },
  {
   "cell_type": "code",
   "execution_count": null,
   "id": "2e14447c-6a17-4a61-b0d9-dcb1f471216d",
   "metadata": {},
   "outputs": [],
   "source": [
    "def initialize_dataframe(file1, file2, file3):\n",
    "    #Open data\n",
    "    ds = xr.open_dataset(path+file1, engine='netcdf4')\n",
    "    dr = xr.open_dataset(path+file2, engine='netcdf4')\n",
    "    dt = xr.open_dataset(path+file3, engine='netcdf4')\n",
    "\n",
    "    #Convert to dataframe\n",
    "    df = ds.to_dataframe()\n",
    "    df = pd.DataFrame(df)\n",
    "\n",
    "    df_meteo = dr.to_dataframe()\n",
    "    df_meteo = pd.DataFrame(df_meteo)\n",
    "\n",
    "    df_rs = dt.to_dataframe()\n",
    "    df_rs = pd.DataFrame(df_rs)\n",
    "\n",
    "    #Get rid of 'x' and 'y' in multiindex and get rid of 'latitude' and 'longitude' in meteo file\n",
    "    df = df.droplevel(['x','y'])\n",
    "    df = df.drop('latitude', axis=1)\n",
    "    df = df.drop('longitude', axis=1)\n",
    "    df_meteo = df_meteo.droplevel(['x','y'])\n",
    "    df_rs = df_rs.droplevel(['x','y'])\n",
    "    df_meteo = df_meteo.drop('latitude', axis=1)\n",
    "    df_meteo = df_meteo.drop('longitude', axis=1)\n",
    "\n",
    "    #Truncate rs so that same amount of rows as flux and meteo\n",
    "    df_rs = df_rs.truncate(after='2021-12-31 23:45:00')\n",
    "\n",
    "    # Get time columns and then drop index\n",
    "    df['hour'] = df.index.hour\n",
    "    df['day'] = df.index.day\n",
    "    df['month'] = df.index.month\n",
    "    df['year'] = df.index.year\n",
    "\n",
    "    #df = df.reset_index(drop=True)\n",
    "    #df_meteo = df_meteo.reset_index(drop=True)\n",
    "    #df_rs = df_rs.reset_index(drop=True)\n",
    "\n",
    "    #Merge dataframes\n",
    "    df_combined = pd.concat([df, df_meteo, df_rs],axis=1)\n",
    "\n",
    "    # Make sure that xgboost sees that 'IGBP_veg_short' is categorical variable\n",
    "    df_combined = df_combined.drop(columns=['IGBP_veg_short'])\n",
    "    #df_combined['IGBP_veg_short'] = df_combined['IGBP_veg_short'].astype('category')\n",
    "    df_combined = df_combined.drop(columns=['rnet','Qg', 'LWdown'])\n",
    "\n",
    "    # Drop columns whose names end with '_qc'\n",
    "    df_combined = df_combined.drop(df_combined.filter(regex='_qc$').columns, axis=1)\n",
    "\n",
    "    #Drop those rows where target variable contains NaN (can only drop when not intermediate NaNs - there are 8 sites with intermediate NaNs)\n",
    "    df_clean = df_combined.dropna(subset=['GPP'])\n",
    "\n",
    "    #Output clean dataframe\n",
    "    return df_clean"
   ]
  },
  {
   "cell_type": "code",
   "execution_count": 268,
   "id": "f94e5da2-807b-445b-9908-b46561d4c954",
   "metadata": {},
   "outputs": [
    {
     "name": "stdout",
     "output_type": "stream",
     "text": [
      "                NEE           GPP          reco             Qh            Qle  \\\n",
      "count  3.682080e+05  3.682080e+05  3.682080e+05  368208.000000  368208.000000   \n",
      "mean  -1.657075e-08  4.967707e-08  3.324672e-08      15.906012      28.273087   \n",
      "std    8.779214e-08  9.550567e-08  1.800712e-08      84.754475      62.383080   \n",
      "min   -5.272829e-07 -2.386922e-07  5.994186e-15    -277.206000    -116.560000   \n",
      "25%   -1.086913e-08 -7.948519e-10  1.821321e-08     -32.160000      -4.161430   \n",
      "50%    1.619281e-08  4.641801e-09  3.105906e-08     -11.789350       2.136440   \n",
      "75%    3.031823e-08  4.664340e-08  4.605597e-08      33.040000      32.337675   \n",
      "max    2.531138e-07  6.034675e-07  1.112262e-07     596.710000     517.390000   \n",
      "\n",
      "                hour            day          month           year  \\\n",
      "count  368208.000000  368208.000000  368208.000000  368208.000000   \n",
      "mean       11.500000      15.730935       6.522487    2010.000000   \n",
      "std         6.922196       8.800652       3.448829       6.055955   \n",
      "min         0.000000       1.000000       1.000000    2000.000000   \n",
      "25%         5.750000       8.000000       4.000000    2005.000000   \n",
      "50%        11.500000      16.000000       7.000000    2010.000000   \n",
      "75%        17.250000      23.000000      10.000000    2015.000000   \n",
      "max        23.000000      31.000000      12.000000    2020.000000   \n",
      "\n",
      "              CO2air  ...        SLTPPT        SNDPPT           WWP  \\\n",
      "count  368208.000000  ...  3.682080e+05  3.682080e+05  3.682080e+05   \n",
      "mean        0.000391  ...  3.969224e+01  3.166116e+01  2.401101e+01   \n",
      "std         0.000014  ...  2.833435e-10  2.366430e-10  4.591889e-11   \n",
      "min         0.000362  ...  3.969224e+01  3.166116e+01  2.401101e+01   \n",
      "25%         0.000380  ...  3.969224e+01  3.166116e+01  2.401101e+01   \n",
      "50%         0.000391  ...  3.969224e+01  3.166116e+01  2.401101e+01   \n",
      "75%         0.000403  ...  3.969224e+01  3.166116e+01  2.401101e+01   \n",
      "max         0.000420  ...  3.969224e+01  3.166116e+01  2.401101e+01   \n",
      "\n",
      "       LST_TERRA_Day  LST_TERRA_Night            EVI           NIRv  \\\n",
      "count  368208.000000    368208.000000  368208.000000  368208.000000   \n",
      "mean      284.710083       278.531633       0.388762       0.170786   \n",
      "std         8.663291         7.242125       0.208431       0.118624   \n",
      "min       259.124820       253.120000      -0.086051      -0.153828   \n",
      "25%       277.495338       272.818917       0.189436       0.059727   \n",
      "50%       285.760000       278.760581       0.325315       0.128479   \n",
      "75%       291.800000       284.404579       0.597147       0.285949   \n",
      "max       306.248326       297.760000       0.918180       0.493388   \n",
      "\n",
      "          NDWI_band7            LAI           fPAR  \n",
      "count  368208.000000  368208.000000  368208.000000  \n",
      "mean        0.506000       2.822457       0.694731  \n",
      "std         0.216192       1.427428       0.180295  \n",
      "min        -0.015673       0.345900       0.158820  \n",
      "25%         0.296000       1.533808       0.535492  \n",
      "50%         0.529629       2.256742       0.677242  \n",
      "75%         0.724790       4.307794       0.884084  \n",
      "max         1.139074       5.844571       0.946742  \n",
      "\n",
      "[8 rows x 40 columns]\n"
     ]
    }
   ],
   "source": [
    "# Define the feature matrix X and the target vector y\n",
    "df = initialize_dataframe(filtered_files[234],filtered_files[235], filtered_files[236])\n",
    "print(df.describe())\n",
    "X = df.drop(columns=['GPP'])  # Replace 'target_column_name' with the actual name of your target variable\n",
    "y = df['GPP']\n",
    "#print(df.describe())"
   ]
  },
  {
   "cell_type": "markdown",
   "id": "c7295b55-329b-4b3f-823a-f58a38672e21",
   "metadata": {},
   "source": [
    "define train and test before running regression on it"
   ]
  },
  {
   "cell_type": "code",
   "execution_count": 269,
   "id": "48906029-35ae-4d9d-b3f6-af976fcd5522",
   "metadata": {},
   "outputs": [],
   "source": [
    "X_train, X_test, y_train, y_test = train_test_split(X, y, test_size=0.2, random_state=42)"
   ]
  },
  {
   "cell_type": "code",
   "execution_count": 270,
   "id": "fba9dbe9-26f3-41f9-97e2-46876e56bf36",
   "metadata": {},
   "outputs": [
    {
     "data": {
      "text/html": [
       "<style>#sk-container-id-7 {\n",
       "  /* Definition of color scheme common for light and dark mode */\n",
       "  --sklearn-color-text: black;\n",
       "  --sklearn-color-line: gray;\n",
       "  /* Definition of color scheme for unfitted estimators */\n",
       "  --sklearn-color-unfitted-level-0: #fff5e6;\n",
       "  --sklearn-color-unfitted-level-1: #f6e4d2;\n",
       "  --sklearn-color-unfitted-level-2: #ffe0b3;\n",
       "  --sklearn-color-unfitted-level-3: chocolate;\n",
       "  /* Definition of color scheme for fitted estimators */\n",
       "  --sklearn-color-fitted-level-0: #f0f8ff;\n",
       "  --sklearn-color-fitted-level-1: #d4ebff;\n",
       "  --sklearn-color-fitted-level-2: #b3dbfd;\n",
       "  --sklearn-color-fitted-level-3: cornflowerblue;\n",
       "\n",
       "  /* Specific color for light theme */\n",
       "  --sklearn-color-text-on-default-background: var(--sg-text-color, var(--theme-code-foreground, var(--jp-content-font-color1, black)));\n",
       "  --sklearn-color-background: var(--sg-background-color, var(--theme-background, var(--jp-layout-color0, white)));\n",
       "  --sklearn-color-border-box: var(--sg-text-color, var(--theme-code-foreground, var(--jp-content-font-color1, black)));\n",
       "  --sklearn-color-icon: #696969;\n",
       "\n",
       "  @media (prefers-color-scheme: dark) {\n",
       "    /* Redefinition of color scheme for dark theme */\n",
       "    --sklearn-color-text-on-default-background: var(--sg-text-color, var(--theme-code-foreground, var(--jp-content-font-color1, white)));\n",
       "    --sklearn-color-background: var(--sg-background-color, var(--theme-background, var(--jp-layout-color0, #111)));\n",
       "    --sklearn-color-border-box: var(--sg-text-color, var(--theme-code-foreground, var(--jp-content-font-color1, white)));\n",
       "    --sklearn-color-icon: #878787;\n",
       "  }\n",
       "}\n",
       "\n",
       "#sk-container-id-7 {\n",
       "  color: var(--sklearn-color-text);\n",
       "}\n",
       "\n",
       "#sk-container-id-7 pre {\n",
       "  padding: 0;\n",
       "}\n",
       "\n",
       "#sk-container-id-7 input.sk-hidden--visually {\n",
       "  border: 0;\n",
       "  clip: rect(1px 1px 1px 1px);\n",
       "  clip: rect(1px, 1px, 1px, 1px);\n",
       "  height: 1px;\n",
       "  margin: -1px;\n",
       "  overflow: hidden;\n",
       "  padding: 0;\n",
       "  position: absolute;\n",
       "  width: 1px;\n",
       "}\n",
       "\n",
       "#sk-container-id-7 div.sk-dashed-wrapped {\n",
       "  border: 1px dashed var(--sklearn-color-line);\n",
       "  margin: 0 0.4em 0.5em 0.4em;\n",
       "  box-sizing: border-box;\n",
       "  padding-bottom: 0.4em;\n",
       "  background-color: var(--sklearn-color-background);\n",
       "}\n",
       "\n",
       "#sk-container-id-7 div.sk-container {\n",
       "  /* jupyter's `normalize.less` sets `[hidden] { display: none; }`\n",
       "     but bootstrap.min.css set `[hidden] { display: none !important; }`\n",
       "     so we also need the `!important` here to be able to override the\n",
       "     default hidden behavior on the sphinx rendered scikit-learn.org.\n",
       "     See: https://github.com/scikit-learn/scikit-learn/issues/21755 */\n",
       "  display: inline-block !important;\n",
       "  position: relative;\n",
       "}\n",
       "\n",
       "#sk-container-id-7 div.sk-text-repr-fallback {\n",
       "  display: none;\n",
       "}\n",
       "\n",
       "div.sk-parallel-item,\n",
       "div.sk-serial,\n",
       "div.sk-item {\n",
       "  /* draw centered vertical line to link estimators */\n",
       "  background-image: linear-gradient(var(--sklearn-color-text-on-default-background), var(--sklearn-color-text-on-default-background));\n",
       "  background-size: 2px 100%;\n",
       "  background-repeat: no-repeat;\n",
       "  background-position: center center;\n",
       "}\n",
       "\n",
       "/* Parallel-specific style estimator block */\n",
       "\n",
       "#sk-container-id-7 div.sk-parallel-item::after {\n",
       "  content: \"\";\n",
       "  width: 100%;\n",
       "  border-bottom: 2px solid var(--sklearn-color-text-on-default-background);\n",
       "  flex-grow: 1;\n",
       "}\n",
       "\n",
       "#sk-container-id-7 div.sk-parallel {\n",
       "  display: flex;\n",
       "  align-items: stretch;\n",
       "  justify-content: center;\n",
       "  background-color: var(--sklearn-color-background);\n",
       "  position: relative;\n",
       "}\n",
       "\n",
       "#sk-container-id-7 div.sk-parallel-item {\n",
       "  display: flex;\n",
       "  flex-direction: column;\n",
       "}\n",
       "\n",
       "#sk-container-id-7 div.sk-parallel-item:first-child::after {\n",
       "  align-self: flex-end;\n",
       "  width: 50%;\n",
       "}\n",
       "\n",
       "#sk-container-id-7 div.sk-parallel-item:last-child::after {\n",
       "  align-self: flex-start;\n",
       "  width: 50%;\n",
       "}\n",
       "\n",
       "#sk-container-id-7 div.sk-parallel-item:only-child::after {\n",
       "  width: 0;\n",
       "}\n",
       "\n",
       "/* Serial-specific style estimator block */\n",
       "\n",
       "#sk-container-id-7 div.sk-serial {\n",
       "  display: flex;\n",
       "  flex-direction: column;\n",
       "  align-items: center;\n",
       "  background-color: var(--sklearn-color-background);\n",
       "  padding-right: 1em;\n",
       "  padding-left: 1em;\n",
       "}\n",
       "\n",
       "\n",
       "/* Toggleable style: style used for estimator/Pipeline/ColumnTransformer box that is\n",
       "clickable and can be expanded/collapsed.\n",
       "- Pipeline and ColumnTransformer use this feature and define the default style\n",
       "- Estimators will overwrite some part of the style using the `sk-estimator` class\n",
       "*/\n",
       "\n",
       "/* Pipeline and ColumnTransformer style (default) */\n",
       "\n",
       "#sk-container-id-7 div.sk-toggleable {\n",
       "  /* Default theme specific background. It is overwritten whether we have a\n",
       "  specific estimator or a Pipeline/ColumnTransformer */\n",
       "  background-color: var(--sklearn-color-background);\n",
       "}\n",
       "\n",
       "/* Toggleable label */\n",
       "#sk-container-id-7 label.sk-toggleable__label {\n",
       "  cursor: pointer;\n",
       "  display: block;\n",
       "  width: 100%;\n",
       "  margin-bottom: 0;\n",
       "  padding: 0.5em;\n",
       "  box-sizing: border-box;\n",
       "  text-align: center;\n",
       "}\n",
       "\n",
       "#sk-container-id-7 label.sk-toggleable__label-arrow:before {\n",
       "  /* Arrow on the left of the label */\n",
       "  content: \"▸\";\n",
       "  float: left;\n",
       "  margin-right: 0.25em;\n",
       "  color: var(--sklearn-color-icon);\n",
       "}\n",
       "\n",
       "#sk-container-id-7 label.sk-toggleable__label-arrow:hover:before {\n",
       "  color: var(--sklearn-color-text);\n",
       "}\n",
       "\n",
       "/* Toggleable content - dropdown */\n",
       "\n",
       "#sk-container-id-7 div.sk-toggleable__content {\n",
       "  max-height: 0;\n",
       "  max-width: 0;\n",
       "  overflow: hidden;\n",
       "  text-align: left;\n",
       "  /* unfitted */\n",
       "  background-color: var(--sklearn-color-unfitted-level-0);\n",
       "}\n",
       "\n",
       "#sk-container-id-7 div.sk-toggleable__content.fitted {\n",
       "  /* fitted */\n",
       "  background-color: var(--sklearn-color-fitted-level-0);\n",
       "}\n",
       "\n",
       "#sk-container-id-7 div.sk-toggleable__content pre {\n",
       "  margin: 0.2em;\n",
       "  border-radius: 0.25em;\n",
       "  color: var(--sklearn-color-text);\n",
       "  /* unfitted */\n",
       "  background-color: var(--sklearn-color-unfitted-level-0);\n",
       "}\n",
       "\n",
       "#sk-container-id-7 div.sk-toggleable__content.fitted pre {\n",
       "  /* unfitted */\n",
       "  background-color: var(--sklearn-color-fitted-level-0);\n",
       "}\n",
       "\n",
       "#sk-container-id-7 input.sk-toggleable__control:checked~div.sk-toggleable__content {\n",
       "  /* Expand drop-down */\n",
       "  max-height: 200px;\n",
       "  max-width: 100%;\n",
       "  overflow: auto;\n",
       "}\n",
       "\n",
       "#sk-container-id-7 input.sk-toggleable__control:checked~label.sk-toggleable__label-arrow:before {\n",
       "  content: \"▾\";\n",
       "}\n",
       "\n",
       "/* Pipeline/ColumnTransformer-specific style */\n",
       "\n",
       "#sk-container-id-7 div.sk-label input.sk-toggleable__control:checked~label.sk-toggleable__label {\n",
       "  color: var(--sklearn-color-text);\n",
       "  background-color: var(--sklearn-color-unfitted-level-2);\n",
       "}\n",
       "\n",
       "#sk-container-id-7 div.sk-label.fitted input.sk-toggleable__control:checked~label.sk-toggleable__label {\n",
       "  background-color: var(--sklearn-color-fitted-level-2);\n",
       "}\n",
       "\n",
       "/* Estimator-specific style */\n",
       "\n",
       "/* Colorize estimator box */\n",
       "#sk-container-id-7 div.sk-estimator input.sk-toggleable__control:checked~label.sk-toggleable__label {\n",
       "  /* unfitted */\n",
       "  background-color: var(--sklearn-color-unfitted-level-2);\n",
       "}\n",
       "\n",
       "#sk-container-id-7 div.sk-estimator.fitted input.sk-toggleable__control:checked~label.sk-toggleable__label {\n",
       "  /* fitted */\n",
       "  background-color: var(--sklearn-color-fitted-level-2);\n",
       "}\n",
       "\n",
       "#sk-container-id-7 div.sk-label label.sk-toggleable__label,\n",
       "#sk-container-id-7 div.sk-label label {\n",
       "  /* The background is the default theme color */\n",
       "  color: var(--sklearn-color-text-on-default-background);\n",
       "}\n",
       "\n",
       "/* On hover, darken the color of the background */\n",
       "#sk-container-id-7 div.sk-label:hover label.sk-toggleable__label {\n",
       "  color: var(--sklearn-color-text);\n",
       "  background-color: var(--sklearn-color-unfitted-level-2);\n",
       "}\n",
       "\n",
       "/* Label box, darken color on hover, fitted */\n",
       "#sk-container-id-7 div.sk-label.fitted:hover label.sk-toggleable__label.fitted {\n",
       "  color: var(--sklearn-color-text);\n",
       "  background-color: var(--sklearn-color-fitted-level-2);\n",
       "}\n",
       "\n",
       "/* Estimator label */\n",
       "\n",
       "#sk-container-id-7 div.sk-label label {\n",
       "  font-family: monospace;\n",
       "  font-weight: bold;\n",
       "  display: inline-block;\n",
       "  line-height: 1.2em;\n",
       "}\n",
       "\n",
       "#sk-container-id-7 div.sk-label-container {\n",
       "  text-align: center;\n",
       "}\n",
       "\n",
       "/* Estimator-specific */\n",
       "#sk-container-id-7 div.sk-estimator {\n",
       "  font-family: monospace;\n",
       "  border: 1px dotted var(--sklearn-color-border-box);\n",
       "  border-radius: 0.25em;\n",
       "  box-sizing: border-box;\n",
       "  margin-bottom: 0.5em;\n",
       "  /* unfitted */\n",
       "  background-color: var(--sklearn-color-unfitted-level-0);\n",
       "}\n",
       "\n",
       "#sk-container-id-7 div.sk-estimator.fitted {\n",
       "  /* fitted */\n",
       "  background-color: var(--sklearn-color-fitted-level-0);\n",
       "}\n",
       "\n",
       "/* on hover */\n",
       "#sk-container-id-7 div.sk-estimator:hover {\n",
       "  /* unfitted */\n",
       "  background-color: var(--sklearn-color-unfitted-level-2);\n",
       "}\n",
       "\n",
       "#sk-container-id-7 div.sk-estimator.fitted:hover {\n",
       "  /* fitted */\n",
       "  background-color: var(--sklearn-color-fitted-level-2);\n",
       "}\n",
       "\n",
       "/* Specification for estimator info (e.g. \"i\" and \"?\") */\n",
       "\n",
       "/* Common style for \"i\" and \"?\" */\n",
       "\n",
       ".sk-estimator-doc-link,\n",
       "a:link.sk-estimator-doc-link,\n",
       "a:visited.sk-estimator-doc-link {\n",
       "  float: right;\n",
       "  font-size: smaller;\n",
       "  line-height: 1em;\n",
       "  font-family: monospace;\n",
       "  background-color: var(--sklearn-color-background);\n",
       "  border-radius: 1em;\n",
       "  height: 1em;\n",
       "  width: 1em;\n",
       "  text-decoration: none !important;\n",
       "  margin-left: 1ex;\n",
       "  /* unfitted */\n",
       "  border: var(--sklearn-color-unfitted-level-1) 1pt solid;\n",
       "  color: var(--sklearn-color-unfitted-level-1);\n",
       "}\n",
       "\n",
       ".sk-estimator-doc-link.fitted,\n",
       "a:link.sk-estimator-doc-link.fitted,\n",
       "a:visited.sk-estimator-doc-link.fitted {\n",
       "  /* fitted */\n",
       "  border: var(--sklearn-color-fitted-level-1) 1pt solid;\n",
       "  color: var(--sklearn-color-fitted-level-1);\n",
       "}\n",
       "\n",
       "/* On hover */\n",
       "div.sk-estimator:hover .sk-estimator-doc-link:hover,\n",
       ".sk-estimator-doc-link:hover,\n",
       "div.sk-label-container:hover .sk-estimator-doc-link:hover,\n",
       ".sk-estimator-doc-link:hover {\n",
       "  /* unfitted */\n",
       "  background-color: var(--sklearn-color-unfitted-level-3);\n",
       "  color: var(--sklearn-color-background);\n",
       "  text-decoration: none;\n",
       "}\n",
       "\n",
       "div.sk-estimator.fitted:hover .sk-estimator-doc-link.fitted:hover,\n",
       ".sk-estimator-doc-link.fitted:hover,\n",
       "div.sk-label-container:hover .sk-estimator-doc-link.fitted:hover,\n",
       ".sk-estimator-doc-link.fitted:hover {\n",
       "  /* fitted */\n",
       "  background-color: var(--sklearn-color-fitted-level-3);\n",
       "  color: var(--sklearn-color-background);\n",
       "  text-decoration: none;\n",
       "}\n",
       "\n",
       "/* Span, style for the box shown on hovering the info icon */\n",
       ".sk-estimator-doc-link span {\n",
       "  display: none;\n",
       "  z-index: 9999;\n",
       "  position: relative;\n",
       "  font-weight: normal;\n",
       "  right: .2ex;\n",
       "  padding: .5ex;\n",
       "  margin: .5ex;\n",
       "  width: min-content;\n",
       "  min-width: 20ex;\n",
       "  max-width: 50ex;\n",
       "  color: var(--sklearn-color-text);\n",
       "  box-shadow: 2pt 2pt 4pt #999;\n",
       "  /* unfitted */\n",
       "  background: var(--sklearn-color-unfitted-level-0);\n",
       "  border: .5pt solid var(--sklearn-color-unfitted-level-3);\n",
       "}\n",
       "\n",
       ".sk-estimator-doc-link.fitted span {\n",
       "  /* fitted */\n",
       "  background: var(--sklearn-color-fitted-level-0);\n",
       "  border: var(--sklearn-color-fitted-level-3);\n",
       "}\n",
       "\n",
       ".sk-estimator-doc-link:hover span {\n",
       "  display: block;\n",
       "}\n",
       "\n",
       "/* \"?\"-specific style due to the `<a>` HTML tag */\n",
       "\n",
       "#sk-container-id-7 a.estimator_doc_link {\n",
       "  float: right;\n",
       "  font-size: 1rem;\n",
       "  line-height: 1em;\n",
       "  font-family: monospace;\n",
       "  background-color: var(--sklearn-color-background);\n",
       "  border-radius: 1rem;\n",
       "  height: 1rem;\n",
       "  width: 1rem;\n",
       "  text-decoration: none;\n",
       "  /* unfitted */\n",
       "  color: var(--sklearn-color-unfitted-level-1);\n",
       "  border: var(--sklearn-color-unfitted-level-1) 1pt solid;\n",
       "}\n",
       "\n",
       "#sk-container-id-7 a.estimator_doc_link.fitted {\n",
       "  /* fitted */\n",
       "  border: var(--sklearn-color-fitted-level-1) 1pt solid;\n",
       "  color: var(--sklearn-color-fitted-level-1);\n",
       "}\n",
       "\n",
       "/* On hover */\n",
       "#sk-container-id-7 a.estimator_doc_link:hover {\n",
       "  /* unfitted */\n",
       "  background-color: var(--sklearn-color-unfitted-level-3);\n",
       "  color: var(--sklearn-color-background);\n",
       "  text-decoration: none;\n",
       "}\n",
       "\n",
       "#sk-container-id-7 a.estimator_doc_link.fitted:hover {\n",
       "  /* fitted */\n",
       "  background-color: var(--sklearn-color-fitted-level-3);\n",
       "}\n",
       "</style><div id=\"sk-container-id-7\" class=\"sk-top-container\"><div class=\"sk-text-repr-fallback\"><pre>LinearRegression()</pre><b>In a Jupyter environment, please rerun this cell to show the HTML representation or trust the notebook. <br />On GitHub, the HTML representation is unable to render, please try loading this page with nbviewer.org.</b></div><div class=\"sk-container\" hidden><div class=\"sk-item\"><div class=\"sk-estimator fitted sk-toggleable\"><input class=\"sk-toggleable__control sk-hidden--visually\" id=\"sk-estimator-id-7\" type=\"checkbox\" checked><label for=\"sk-estimator-id-7\" class=\"sk-toggleable__label fitted sk-toggleable__label-arrow fitted\">&nbsp;&nbsp;LinearRegression<a class=\"sk-estimator-doc-link fitted\" rel=\"noreferrer\" target=\"_blank\" href=\"https://scikit-learn.org/1.5/modules/generated/sklearn.linear_model.LinearRegression.html\">?<span>Documentation for LinearRegression</span></a><span class=\"sk-estimator-doc-link fitted\">i<span>Fitted</span></span></label><div class=\"sk-toggleable__content fitted\"><pre>LinearRegression()</pre></div> </div></div></div></div>"
      ],
      "text/plain": [
       "LinearRegression()"
      ]
     },
     "execution_count": 270,
     "metadata": {},
     "output_type": "execute_result"
    }
   ],
   "source": [
    "# Initialize Lasso regression model with a chosen alpha (regularization strength)\n",
    "model = LinearRegression()\n",
    "\n",
    "# Train the model\n",
    "model.fit(X_train, y_train)"
   ]
  },
  {
   "cell_type": "code",
   "execution_count": 271,
   "id": "7b99992a-0ee9-4211-9a6a-8cb8f9c4c923",
   "metadata": {},
   "outputs": [],
   "source": [
    "# Predict the target variable for the test set\n",
    "y_pred = model.predict(X_test)\n"
   ]
  },
  {
   "cell_type": "code",
   "execution_count": 272,
   "id": "1deb5563-a0b2-43db-83c9-0a54ffdf7f25",
   "metadata": {},
   "outputs": [
    {
     "name": "stdout",
     "output_type": "stream",
     "text": [
      "Mean Squared Error: 0.00\n",
      "R² Score: 1.00\n"
     ]
    }
   ],
   "source": [
    "# Calculate Mean Squared Error\n",
    "mse = mean_squared_error(y_test, y_pred)\n",
    "print(f\"Mean Squared Error: {mse:.2f}\")\n",
    "\n",
    "# Calculate R² Score\n",
    "r2 = r2_score(y_test, y_pred)\n",
    "print(f\"R² Score: {r2:.2f}\")\n"
   ]
  },
  {
   "cell_type": "code",
   "execution_count": 273,
   "id": "0a3c0f00-1325-4d8e-b265-9a2174131b72",
   "metadata": {},
   "outputs": [
    {
     "name": "stdout",
     "output_type": "stream",
     "text": [
      "            Feature   Coefficient\n",
      "0               NEE -9.933468e-01\n",
      "1              reco  9.891997e-01\n",
      "2                Qh -1.790893e-12\n",
      "3               Qle  3.794750e-12\n",
      "4              hour  7.469893e-13\n",
      "5               day -1.678698e-12\n",
      "6             month  8.412246e-12\n",
      "7              year -1.492212e-11\n",
      "8            CO2air  2.478391e-06\n",
      "9              Tair -2.468973e-11\n",
      "10              vpd  4.196586e-11\n",
      "11               RH  2.019983e-12\n",
      "12             Qair  6.218176e-08\n",
      "13           Precip -6.789065e-08\n",
      "14            Psurf  2.361134e-14\n",
      "15           SWdown  1.205604e-12\n",
      "16             Wind  3.195350e-11\n",
      "17  SWdown_clearsky  1.722771e-13\n",
      "18            AWCh1 -7.270060e-02\n",
      "19            AWCh2 -2.420826e-02\n",
      "20            AWCh3 -8.384520e-04\n",
      "21            AWCtS  1.409728e-02\n",
      "22           BLDFIE -6.229446e-01\n",
      "23           CECSOL -3.246048e-03\n",
      "24           CLYPPT -1.623478e-02\n",
      "25           CRFVOL -9.740844e-03\n",
      "26           ORCDRC  9.740844e-03\n",
      "27           PHIHOX -4.545727e-02\n",
      "29           SLTPPT -3.246948e-02\n",
      "31              WWP  9.740844e-03\n",
      "32    LST_TERRA_Day  8.218373e-12\n",
      "33  LST_TERRA_Night -1.114183e-11\n",
      "34              EVI -8.751521e-10\n",
      "35             NIRv  1.120229e-09\n",
      "36       NDWI_band7  1.371886e-10\n",
      "37              LAI  2.751542e-10\n",
      "38             fPAR -1.146316e-09\n"
     ]
    }
   ],
   "source": [
    "# Retrieve the coefficients\n",
    "coefficients = pd.DataFrame({\n",
    "    'Feature': X.columns,\n",
    "    'Coefficient': model.coef_\n",
    "})\n",
    "\n",
    "# Display non-zero coefficients\n",
    "print(coefficients[coefficients['Coefficient'] != 0])\n"
   ]
  },
  {
   "cell_type": "code",
   "execution_count": 274,
   "id": "f2b1403b-629c-41f5-87df-d5d548e72a9f",
   "metadata": {},
   "outputs": [
    {
     "name": "stdout",
     "output_type": "stream",
     "text": [
      "Selected Features:\n",
      "Index(['NEE', 'reco', 'AWCh1', 'AWCh2', 'AWCtS', 'BLDFIE', 'CLYPPT', 'PHIHOX',\n",
      "       'SLTPPT', 'WWP'],\n",
      "      dtype='object')\n"
     ]
    }
   ],
   "source": [
    "# Retrieve coefficients\n",
    "coefficients = pd.Series(model.coef_, index=X.columns)\n",
    "\n",
    "# Select features based on absolute value of coefficients\n",
    "threshold = np.percentile(np.abs(coefficients), 75)  # Use top 25% of coefficients as threshold\n",
    "selected_features = coefficients[np.abs(coefficients) >= threshold].index\n",
    "\n",
    "# Create a new DataFrame with only selected features\n",
    "X_selected = X[selected_features]\n",
    "\n",
    "# Output selected features\n",
    "print(\"Selected Features:\")\n",
    "print(selected_features)"
   ]
  },
  {
   "cell_type": "code",
   "execution_count": 275,
   "id": "f3db4b9e-290a-4236-8d0a-f818ade74ca9",
   "metadata": {},
   "outputs": [
    {
     "data": {
      "image/png": "[encoded data removed]",
      "text/plain": [
       "<Figure size 800x600 with 1 Axes>"
      ]
     },
     "metadata": {},
     "output_type": "display_data"
    }
   ],
   "source": [
    "# Scatter plot of actual vs predicted values\n",
    "plt.figure(figsize=(8, 6))\n",
    "plt.scatter(y_test, y_pred, alpha=0.7)\n",
    "plt.plot([y_test.min(), y_test.max()], [y_test.min(), y_test.max()], 'r--', lw=2, label='Perfect Prediction')\n",
    "plt.xlabel(\"Actual GPP Values\")\n",
    "plt.ylabel(\"Predicted GPP Values\")\n",
    "plt.title(\"Predicted vs Actual Values\")\n",
    "plt.legend()\n",
    "plt.grid(True)\n",
    "plt.show()"
   ]
  },
  {
   "cell_type": "markdown",
   "id": "a24d61f8-0516-4ddc-befb-4a4637ce329b",
   "metadata": {},
   "source": [
    "Evaluate now model on other site"
   ]
  },
  {
   "cell_type": "code",
   "execution_count": 276,
   "id": "5f9d45e8-1246-4822-93fc-8b030eef0954",
   "metadata": {},
   "outputs": [
    {
     "name": "stdout",
     "output_type": "stream",
     "text": [
      "                NEE           GPP          reco            Qh           Qle  \\\n",
      "count  8.764800e+04  8.764800e+04  8.764800e+04  87648.000000  87648.000000   \n",
      "mean  -3.502065e-09  1.460377e-08  1.111089e-08     60.198952     25.036199   \n",
      "std    2.349025e-08  2.583536e-08  7.800245e-09    123.833454     36.925668   \n",
      "min   -2.465282e-07 -1.706295e-07  3.603300e-14    -96.000000    -80.000000   \n",
      "25%   -1.487947e-08 -1.455151e-09  5.792368e-09    -17.100000      0.000000   \n",
      "50%    4.377793e-09  3.563982e-09  9.427788e-09     -2.000000      8.000000   \n",
      "75%    1.024251e-08  2.768349e-08  1.444302e-08    110.000000     40.000000   \n",
      "max    1.756633e-07  2.916475e-07  6.553118e-08    733.000000    388.000000   \n",
      "\n",
      "               hour           day         month          year        CO2air  \\\n",
      "count  87648.000000  87648.000000  87648.000000  87648.000000  87648.000000   \n",
      "mean      11.500000     15.727820      6.523549   2012.000000      0.000391   \n",
      "std        6.922226      8.799375      3.448553      1.413834      0.000003   \n",
      "min        0.000000      1.000000      1.000000   2010.000000      0.000385   \n",
      "25%        5.750000      8.000000      4.000000   2011.000000      0.000388   \n",
      "50%       11.500000     16.000000      7.000000   2012.000000      0.000390   \n",
      "75%       17.250000     23.000000     10.000000   2013.000000      0.000394   \n",
      "max       23.000000     31.000000     12.000000   2014.000000      0.000397   \n",
      "\n",
      "       ...        SLTPPT        SNDPPT           WWP  LST_TERRA_Day  \\\n",
      "count  ...  8.764800e+04  8.764800e+04  8.764800e+04   87648.000000   \n",
      "mean   ...  6.751460e+00  6.520216e+01  1.629526e+01     301.826320   \n",
      "std    ...  1.933575e-12  4.544657e-11  2.582127e-11      10.805436   \n",
      "min    ...  6.751460e+00  6.520216e+01  1.629526e+01     282.000000   \n",
      "25%    ...  6.751460e+00  6.520216e+01  1.629526e+01     291.760000   \n",
      "50%    ...  6.751460e+00  6.520216e+01  1.629526e+01     302.574070   \n",
      "75%    ...  6.751460e+00  6.520216e+01  1.629526e+01     310.680000   \n",
      "max    ...  6.751460e+00  6.520216e+01  1.629526e+01     329.680000   \n",
      "\n",
      "       LST_TERRA_Night           EVI          NIRv    NDWI_band7  \\\n",
      "count     87648.000000  87648.000000  87648.000000  87648.000000   \n",
      "mean        284.863422      0.176158      0.057351      0.022090   \n",
      "std           5.829213      0.031642      0.014380      0.115560   \n",
      "min         272.320000      0.106226      0.026216     -0.216931   \n",
      "25%         280.040000      0.159638      0.049599     -0.056389   \n",
      "50%         284.475000      0.174088      0.056135      0.012790   \n",
      "75%         289.100000      0.196737      0.067068      0.104346   \n",
      "max         302.460000      0.238510      0.086582      0.260080   \n",
      "\n",
      "                LAI          fPAR  \n",
      "count  87648.000000  87648.000000  \n",
      "mean       0.655318      0.273937  \n",
      "std        0.242661      0.085803  \n",
      "min        0.249272      0.117182  \n",
      "25%        0.491387      0.217518  \n",
      "50%        0.600717      0.259121  \n",
      "75%        0.792270      0.327051  \n",
      "max        1.189065      0.448180  \n",
      "\n",
      "[8 rows x 40 columns]\n"
     ]
    }
   ],
   "source": [
    "df_eval = initialize_dataframe(filtered_files[9],filtered_files[10],filtered_files[11])\n",
    "print(df_eval.describe())\n",
    "X_eval = df_eval.drop(columns=['GPP'])  # Replace 'target_column_name' with the actual name of your target variable\n",
    "y_eval = df_eval['GPP']"
   ]
  },
  {
   "cell_type": "code",
   "execution_count": 277,
   "id": "5267c056-691e-4094-a36b-9999b5289e54",
   "metadata": {},
   "outputs": [],
   "source": [
    "# Predict the target variable for the test set\n",
    "predictions = model.predict(X_eval)"
   ]
  },
  {
   "cell_type": "code",
   "execution_count": 278,
   "id": "792c8ab0-9849-44c5-abf3-087d0c44c035",
   "metadata": {},
   "outputs": [
    {
     "name": "stdout",
     "output_type": "stream",
     "text": [
      "Mean Squared Error: 3272.69\n",
      "R² Score: -4903206530093247488.00\n"
     ]
    }
   ],
   "source": [
    "# Calculate Mean Squared Error\n",
    "mse = mean_squared_error(y_eval, predictions)\n",
    "print(f\"Mean Squared Error: {mse:.2f}\")\n",
    "\n",
    "# Calculate R² Score\n",
    "r2 = r2_score(y_eval, predictions)\n",
    "print(f\"R² Score: {r2:.2f}\")"
   ]
  },
  {
   "cell_type": "code",
   "execution_count": 279,
   "id": "f21f2456-2189-4c41-a657-3433feabf398",
   "metadata": {},
   "outputs": [
    {
     "name": "stdout",
     "output_type": "stream",
     "text": [
      "            Feature   Coefficient\n",
      "0               NEE -9.933468e-01\n",
      "1              reco  9.891997e-01\n",
      "2                Qh -1.790893e-12\n",
      "3               Qle  3.794750e-12\n",
      "4              hour  7.469893e-13\n",
      "5               day -1.678698e-12\n",
      "6             month  8.412246e-12\n",
      "7              year -1.492212e-11\n",
      "8            CO2air  2.478391e-06\n",
      "9              Tair -2.468973e-11\n",
      "10              vpd  4.196586e-11\n",
      "11               RH  2.019983e-12\n",
      "12             Qair  6.218176e-08\n",
      "13           Precip -6.789065e-08\n",
      "14            Psurf  2.361134e-14\n",
      "15           SWdown  1.205604e-12\n",
      "16             Wind  3.195350e-11\n",
      "17  SWdown_clearsky  1.722771e-13\n",
      "18            AWCh1 -7.270060e-02\n",
      "19            AWCh2 -2.420826e-02\n",
      "20            AWCh3 -8.384520e-04\n",
      "21            AWCtS  1.409728e-02\n",
      "22           BLDFIE -6.229446e-01\n",
      "23           CECSOL -3.246048e-03\n",
      "24           CLYPPT -1.623478e-02\n",
      "25           CRFVOL -9.740844e-03\n",
      "26           ORCDRC  9.740844e-03\n",
      "27           PHIHOX -4.545727e-02\n",
      "29           SLTPPT -3.246948e-02\n",
      "31              WWP  9.740844e-03\n",
      "32    LST_TERRA_Day  8.218373e-12\n",
      "33  LST_TERRA_Night -1.114183e-11\n",
      "34              EVI -8.751521e-10\n",
      "35             NIRv  1.120229e-09\n",
      "36       NDWI_band7  1.371886e-10\n",
      "37              LAI  2.751542e-10\n",
      "38             fPAR -1.146316e-09\n"
     ]
    }
   ],
   "source": [
    "# Retrieve the coefficients\n",
    "coefficients = pd.DataFrame({\n",
    "    'Feature': X_eval.columns,\n",
    "    'Coefficient': model.coef_\n",
    "})\n",
    "\n",
    "# Display non-zero coefficients\n",
    "print(coefficients[coefficients['Coefficient'] != 0])\n"
   ]
  },
  {
   "cell_type": "code",
   "execution_count": 280,
   "id": "fd83a637-42fb-4491-bb9a-4bdc4a850fec",
   "metadata": {},
   "outputs": [
    {
     "name": "stdout",
     "output_type": "stream",
     "text": [
      "Selected Features:\n",
      "Index(['NEE', 'reco', 'AWCh1', 'AWCh2', 'AWCtS', 'BLDFIE', 'CLYPPT', 'PHIHOX',\n",
      "       'SLTPPT', 'WWP'],\n",
      "      dtype='object')\n"
     ]
    }
   ],
   "source": [
    "# Retrieve coefficients\n",
    "coefficients = pd.Series(model.coef_, index=X_eval.columns)\n",
    "\n",
    "# Select features based on absolute value of coefficients\n",
    "threshold = np.percentile(np.abs(coefficients), 75)  # Use top 25% of coefficients as threshold\n",
    "selected_features = coefficients[np.abs(coefficients) >= threshold].index\n",
    "\n",
    "# Create a new DataFrame with only selected features\n",
    "X_selected = X_eval[selected_features]\n",
    "\n",
    "# Output selected features\n",
    "print(\"Selected Features:\")\n",
    "print(selected_features)"
   ]
  },
  {
   "cell_type": "code",
   "execution_count": 281,
   "id": "4548e706-f951-4075-9a6b-306a1a52c12d",
   "metadata": {},
   "outputs": [
    {
     "data": {
      "image/png": "[encoded data removed]",
      "text/plain": [
       "<Figure size 800x600 with 1 Axes>"
      ]
     },
     "metadata": {},
     "output_type": "display_data"
    }
   ],
   "source": [
    "# Scatter plot of actual vs predicted values\n",
    "plt.figure(figsize=(8, 6))\n",
    "plt.scatter(y_eval, predictions, alpha=0.7)\n",
    "plt.plot([y_eval.min(), y_eval.max()], [y_eval.min(), y_eval.max()], 'r--', lw=2, label='Perfect Prediction')\n",
    "plt.xlabel(\"Actual GPP Values\")\n",
    "plt.ylabel(\"Predicted GPP Values\")\n",
    "plt.title(\"Predicted vs Actual Values\")\n",
    "plt.legend()\n",
    "plt.grid(True)\n",
    "plt.show()"
   ]
  },
  {
   "cell_type": "markdown",
   "id": "8787f386-b37f-4800-b0ff-e838b09967a6",
   "metadata": {},
   "source": [
    "evaluate one more time on another model"
   ]
  },
  {
   "cell_type": "code",
   "execution_count": 282,
   "id": "ab3f2bef-77b5-4ca2-8c2f-d08bf7f85680",
   "metadata": {},
   "outputs": [
    {
     "name": "stdout",
     "output_type": "stream",
     "text": [
      "Mean Squared Error: 274.25\n",
      "R² Score: -311875716997686784.00\n"
     ]
    }
   ],
   "source": [
    "df_eval2 = initialize_dataframe(filtered_files[123],filtered_files[124],filtered_files[125])\n",
    "X_eval2 = df_eval2.drop(columns=['GPP'])  # Replace 'target_column_name' with the actual name of your target variable\n",
    "y_eval2 = df_eval2['GPP']\n",
    "\n",
    "# Predict the target variable for the test set\n",
    "y_pred = model.predict(X_eval2)\n",
    "\n",
    "# Calculate Mean Squared Error\n",
    "mse = mean_squared_error(y_eval2, y_pred)\n",
    "print(f\"Mean Squared Error: {mse:.2f}\")\n",
    "\n",
    "# Calculate R² Score\n",
    "r2 = r2_score(y_eval2, y_pred)\n",
    "print(f\"R² Score: {r2:.2f}\")\n"
   ]
  },
  {
   "cell_type": "code",
   "execution_count": 283,
   "id": "5ddad93a-49a1-4ac6-98c0-0ec819959dfe",
   "metadata": {},
   "outputs": [
    {
     "data": {
      "image/png": "[encoded data removed]",
      "text/plain": [
       "<Figure size 800x600 with 1 Axes>"
      ]
     },
     "metadata": {},
     "output_type": "display_data"
    }
   ],
   "source": [
    "# Scatter plot of actual vs predicted values\n",
    "plt.figure(figsize=(8, 6))\n",
    "plt.scatter(y_eval2, y_pred, alpha=0.7)\n",
    "plt.plot([y_eval2.min(), y_eval2.max()], [y_eval2.min(), y_eval2.max()], 'r--', lw=2, label='Perfect Prediction')\n",
    "plt.xlabel(\"Actual GPP Values\")\n",
    "plt.ylabel(\"Predicted GPP Values\")\n",
    "plt.title(\"Predicted vs Actual Values\")\n",
    "plt.legend()\n",
    "plt.grid(True)\n",
    "plt.show()"
   ]
  },
  {
   "cell_type": "markdown",
   "id": "eb61be6d-6a66-4905-8c9f-483cfb6f7df8",
   "metadata": {},
   "source": [
    "evaluate one more time on another model"
   ]
  },
  {
   "cell_type": "code",
   "execution_count": 284,
   "id": "1c664131-6581-41c6-b0ac-22c787df1634",
   "metadata": {},
   "outputs": [
    {
     "name": "stdout",
     "output_type": "stream",
     "text": [
      "Mean Squared Error: 290.24\n",
      "R² Score: -28839259570668768.00\n"
     ]
    }
   ],
   "source": [
    "df_eval3 = initialize_dataframe(filtered_files[237],filtered_files[238],filtered_files[239])\n",
    "X_eval3 = df_eval3.drop(columns=['GPP'])  # Replace 'target_column_name' with the actual name of your target variable\n",
    "y_eval3 = df_eval3['GPP']\n",
    "\n",
    "# Predict the target variable for the test set\n",
    "y_pred = model.predict(X_eval3)\n",
    "\n",
    "# Calculate Mean Squared Error\n",
    "mse = mean_squared_error(y_eval3, y_pred)\n",
    "print(f\"Mean Squared Error: {mse:.2f}\")\n",
    "\n",
    "# Calculate R² Score\n",
    "r2 = r2_score(y_eval3, y_pred)\n",
    "print(f\"R² Score: {r2:.2f}\")\n"
   ]
  },
  {
   "cell_type": "code",
   "execution_count": 285,
   "id": "a8fcb8c8-15c6-4dcf-8aa7-b92cf0eed041",
   "metadata": {},
   "outputs": [
    {
     "data": {
      "image/png": "[encoded data removed]",
      "text/plain": [
       "<Figure size 800x600 with 1 Axes>"
      ]
     },
     "metadata": {},
     "output_type": "display_data"
    }
   ],
   "source": [
    "# Scatter plot of actual vs predicted values\n",
    "plt.figure(figsize=(8, 6))\n",
    "plt.scatter(y_eval3, y_pred, alpha=0.7)\n",
    "plt.plot([y_eval3.min(), y_eval3.max()], [y_eval3.min(), y_eval3.max()], 'r--', lw=2, label='Perfect Prediction')\n",
    "plt.xlabel(\"Actual GPP Values\")\n",
    "plt.ylabel(\"Predicted GPP Values\")\n",
    "plt.title(\"Predicted vs Actual Values\")\n",
    "plt.legend()\n",
    "plt.grid(True)\n",
    "plt.show()"
   ]
  },
  {
   "cell_type": "markdown",
   "id": "811ff088-8f00-4668-927d-c49c8a774754",
   "metadata": {},
   "source": [
    "One can see that when a model is trained on one site with linear regression, it performs perfect poorly on other sites \n",
    "(sum of squares of residuals is very high)"
   ]
  },
  {
   "cell_type": "markdown",
   "id": "1b012fab-99ce-4fe0-87b6-4b9c42c5fe03",
   "metadata": {},
   "source": [
    "We now want to run the same as before, that is train on one site and then evaluating at other sites - then save the results in csv"
   ]
  },
  {
   "cell_type": "code",
   "execution_count": 286,
   "id": "ec7b063e-b44c-4fa2-898e-a57213c5d151",
   "metadata": {},
   "outputs": [],
   "source": [
    "#Import libraries - https://www.analyticsvidhya.com/blog/2024/01/xgboost-for-time-series-forecasting/\n",
    "import numpy as np\n",
    "import pandas as pd\n",
    "from xgboost import XGBRegressor\n",
    "from sklearn.model_selection import train_test_split\n",
    "from sklearn.metrics import mean_squared_error, r2_score\n",
    "from sklearn.ensemble import HistGradientBoostingRegressor, RandomForestRegressor, AdaBoostRegressor\n",
    "from sklearn.tree import DecisionTreeRegressor\n",
    "import matplotlib.pyplot as plt\n",
    "import xarray as xr\n",
    "import xgboost as xgb\n",
    "import os\n",
    "import netCDF4\n",
    "from tqdm import tqdm"
   ]
  },
  {
   "cell_type": "code",
   "execution_count": 287,
   "id": "84fac653-ee79-4c00-944a-3804b3a8a6b2",
   "metadata": {},
   "outputs": [
    {
     "name": "stdout",
     "output_type": "stream",
     "text": [
      "282\n"
     ]
    }
   ],
   "source": [
    "#Define path to data\n",
    "path = '/u/akmete/Documents/Master Thesis/Data/'\n",
    "files = [f for f in os.listdir(path) if f.endswith('.nc')] # all files\n",
    "files.sort()\n",
    "\n",
    "\n",
    "#Get the files out of folder which have intermediate NaN's. These are: DE-Lnf, IT-Ro2, SD-Dem, US-Los, US-Syv, US-WCr, US-Wi3 and ZM-Mon\n",
    "filt_list = ['DE-Lnf_flux.nc', 'DE-Lnf_meteo.nc', 'DE-Lnf_rs.nc', 'IT-Ro2_flux.nc', 'IT-Ro2_meteo.nc', 'IT-Ro2_rs.nc', 'SD-Dem_flux.nc', 'SD-Dem_meteo.nc', 'SD-Dem_rs.nc',\n",
    "'US-Los_flux.nc', 'US-Los_meteo.nc', 'US-Los_rs.nc', 'US-Syv_flux.nc', 'US-Syv_meteo.nc', 'US-Syv_rs.nc', 'US-WCr_flux.nc', 'US-WCr_meteo.nc', 'US-WCr_rs.nc',\n",
    "        'US-Wi3_flux.nc', 'US-Wi3_meteo.nc', 'US-Wi3_rs.nc', 'ZM-Mon_flux.nc', 'ZM-Mon_meteo.nc', 'ZM-Mon_rs.nc']\n",
    "\n",
    "# Remove files that are in list\n",
    "filtered_files = [file for file in files if file not in filt_list]\n",
    "assert len(filtered_files) % 3 == 0\n",
    "filtered_files = {filtered_files[0+3*i][:6]: (filtered_files[0+3*i],filtered_files[1+3*i],filtered_files[2+3*i]) for i in range(len(filtered_files)//3)}\n",
    "print(len(filtered_files))"
   ]
  },
  {
   "cell_type": "code",
   "execution_count": 288,
   "id": "b2084a9e-cc96-4d52-9a7e-fcc25b1e6d7d",
   "metadata": {},
   "outputs": [],
   "source": [
    "def initialize_dataframe(file1, file2, file3):\n",
    "    #Open data\n",
    "    ds = xr.open_dataset(path+file1, engine='netcdf4')\n",
    "    dr = xr.open_dataset(path+file2, engine='netcdf4')\n",
    "    dt = xr.open_dataset(path+file3, engine='netcdf4')\n",
    "\n",
    "    #Convert to dataframe\n",
    "    df = ds.to_dataframe()\n",
    "    df = pd.DataFrame(df)\n",
    "\n",
    "    df_meteo = dr.to_dataframe()\n",
    "    df_meteo = pd.DataFrame(df_meteo)\n",
    "\n",
    "    df_rs = dt.to_dataframe()\n",
    "    df_rs = pd.DataFrame(df_rs)\n",
    "\n",
    "    #Get rid of 'x' and 'y' in multiindex and get rid of 'latitude' and 'longitude' in meteo file\n",
    "    df = df.droplevel(['x','y'])\n",
    "    df_meteo = df_meteo.droplevel(['x','y'])\n",
    "    df_rs = df_rs.droplevel(['x','y'])\n",
    "    df_meteo = df_meteo.drop('latitude', axis=1)\n",
    "    df_meteo = df_meteo.drop('longitude', axis=1)\n",
    "\n",
    "    #Truncate rs so that same amount of rows as flux and meteo\n",
    "    df_rs = df_rs.truncate(after='2021-12-31 23:45:00')\n",
    "\n",
    "    #Merge dataframes\n",
    "    df_combined = pd.concat([df, df_meteo, df_rs],axis=1)\n",
    "\n",
    "    #Drop categorical variable 'IGBP_veg_short' so that xgboost works properly - drop the others because they often contain NaN in the GPPnoNaN area\n",
    "    df_combined = df_combined.drop(columns=['IGBP_veg_short'])\n",
    "\n",
    "    #Drop those rows where target variable contains NaN (can only drop when not intermediate NaNs - there are 8 sites with intermediate NaNs)\n",
    "    df_clean = df_combined.dropna(subset=['GPP'])\n",
    "\n",
    "    #Define feature matrix X and target variable y\n",
    "    #X = df_clean.drop('GPP', axis=1)\n",
    "    #y = df_clean['GPP']\n",
    "\n",
    "    # Drop columns where all values are NaN\n",
    "    #df_clean = df_clean.dropna(axis=1, how='all')\n",
    "    #Handle NaNs for LinearRegression\n",
    "    #df_clean = df_clean.apply(lambda col: col.interpolate(method='time')) # Time-based interpolation\n",
    "    #df_clean = df_clean.apply(lambda col: col.interpolate(method='time'))\n",
    "\n",
    "    def handle_nans(col):\n",
    "        if col.isnull().all():  # Case 1: Column has only NaNs\n",
    "            col = col.fillna(0)  # Replace entire column with zeros\n",
    "        else:\n",
    "            mean_value = col.mean()  # Calculate the mean for the column\n",
    "            col = col.astype(float)  # Ensure compatibility for operations\n",
    "            if col.isnull().iloc[0]:  # Case 2: Replace leading NaNs with mean\n",
    "                col[:col.first_valid_index()] = mean_value\n",
    "            col = col.interpolate(method='linear')  # Case 3: Linear interpolation for other NaNs\n",
    "        return col\n",
    "\n",
    "    # Apply the function column-wise\n",
    "    df_clean = df_clean.apply(handle_nans)\n",
    "\n",
    "    return df_clean\n"
   ]
  },
  {
   "cell_type": "code",
   "execution_count": 289,
   "id": "d64d2373-d298-48d0-8c4d-c61ea7ce8f25",
   "metadata": {},
   "outputs": [
    {
     "name": "stdout",
     "output_type": "stream",
     "text": [
      "Mean Squared Error: 3.5689544194928025e-33, site: AU-ASM\n"
     ]
    }
   ],
   "source": [
    "sites = list(filtered_files.keys())\n",
    "site_idx = 2\n",
    "df = initialize_dataframe(*filtered_files[sites[site_idx]])\n",
    "\n",
    "#Add lagged version of target variable\n",
    "df['lag_1'] = df['GPP'].shift(1)\n",
    "df['lag_2'] = df['GPP'].shift(2)\n",
    "\n",
    "df['rolling_mean'] = df['GPP'].rolling(window=3).mean()\n",
    "df = df.iloc[2:] # Remove first two rows where lag_1 and lag_2 get NaNs\n",
    "\n",
    "#Add time related features\n",
    "df['hour'] = df.index.hour\n",
    "df['day'] = df.index.day\n",
    "df['month'] = df.index.month\n",
    "df['year'] = df.index.year\n",
    "\n",
    "train_size = int(len(df) * 0.8)\n",
    "train, test = df.iloc[:train_size], df.iloc[train_size:]\n",
    "\n",
    "X_train = train.drop(columns=['GPP'])\n",
    "y_train = train['GPP']\n",
    "X_test = test.drop(columns=['GPP'])\n",
    "y_test = test['GPP']\n",
    "\n",
    "model = LinearRegression()\n",
    "model.fit(X_train, y_train)\n",
    "\n",
    "predictions = model.predict(X_test)\n",
    "mse_site = mean_squared_error(y_test, predictions)\n",
    "print(f\"Mean Squared Error: {mse_site}, site: {sites[site_idx]}\")"
   ]
  },
  {
   "cell_type": "code",
   "execution_count": 290,
   "id": "2c579941-c377-4b45-bd0f-b4e9b8e71074",
   "metadata": {},
   "outputs": [
    {
     "name": "stderr",
     "output_type": "stream",
     "text": [
      "  0%|▏                                          | 1/282 [00:00<03:32,  1.32it/s]"
     ]
    },
    {
     "name": "stdout",
     "output_type": "stream",
     "text": [
      "Mean Squared Error (out of sample): 7.322480294399298e-09, site: AR-SLu\n",
      "R² Score (out of sample): -614487.2253609138, site:AR-SLu\n"
     ]
    },
    {
     "name": "stderr",
     "output_type": "stream",
     "text": [
      "  1%|▎                                          | 2/282 [00:01<03:46,  1.24it/s]"
     ]
    },
    {
     "name": "stdout",
     "output_type": "stream",
     "text": [
      "Mean Squared Error (out of sample): 6.251840848836794e-09, site: AT-Neu\n",
      "R² Score (out of sample): -315081.3454990957, site:AT-Neu\n"
     ]
    },
    {
     "name": "stderr",
     "output_type": "stream",
     "text": [
      "  1%|▍                                          | 3/282 [00:02<03:51,  1.21it/s]"
     ]
    },
    {
     "name": "stdout",
     "output_type": "stream",
     "text": [
      "Mean Squared Error (out of sample): 3.5689544194928025e-33, site: AU-ASM\n",
      "R² Score (out of sample): 1.0, site:AU-ASM\n"
     ]
    },
    {
     "name": "stderr",
     "output_type": "stream",
     "text": [
      "  1%|▌                                          | 4/282 [00:03<03:21,  1.38it/s]"
     ]
    },
    {
     "name": "stdout",
     "output_type": "stream",
     "text": [
      "Mean Squared Error (out of sample): 2.0449350705716698e-11, site: AU-Cpr\n",
      "R² Score (out of sample): -123491.29568809402, site:AU-Cpr\n"
     ]
    },
    {
     "name": "stderr",
     "output_type": "stream",
     "text": [
      "  2%|▊                                          | 5/282 [00:03<03:21,  1.38it/s]"
     ]
    },
    {
     "name": "stdout",
     "output_type": "stream",
     "text": [
      "Mean Squared Error (out of sample): 2.618399437945316e-09, site: AU-Cum\n",
      "R² Score (out of sample): -917365.2356408817, site:AU-Cum\n"
     ]
    },
    {
     "name": "stderr",
     "output_type": "stream",
     "text": [
      "  2%|▉                                          | 6/282 [00:04<03:26,  1.33it/s]"
     ]
    },
    {
     "name": "stdout",
     "output_type": "stream",
     "text": [
      "Mean Squared Error (out of sample): 1.2471357335017456e-08, site: AU-DaP\n",
      "R² Score (out of sample): -1649755.5800403047, site:AU-DaP\n"
     ]
    },
    {
     "name": "stderr",
     "output_type": "stream",
     "text": [
      "  2%|█                                          | 7/282 [00:05<03:24,  1.34it/s]"
     ]
    },
    {
     "name": "stdout",
     "output_type": "stream",
     "text": [
      "Mean Squared Error (out of sample): 4.467871789754412e-09, site: AU-DaS\n",
      "R² Score (out of sample): -1085962.2003142168, site:AU-DaS\n"
     ]
    },
    {
     "name": "stderr",
     "output_type": "stream",
     "text": [
      "  3%|█▏                                         | 8/282 [00:06<03:26,  1.33it/s]"
     ]
    },
    {
     "name": "stdout",
     "output_type": "stream",
     "text": [
      "Mean Squared Error (out of sample): 4.406719094276967e-11, site: AU-Dry\n",
      "R² Score (out of sample): -13398.99905775421, site:AU-Dry\n"
     ]
    },
    {
     "name": "stderr",
     "output_type": "stream",
     "text": [
      "  3%|█▎                                         | 9/282 [00:06<03:15,  1.40it/s]"
     ]
    },
    {
     "name": "stdout",
     "output_type": "stream",
     "text": [
      "Mean Squared Error (out of sample): 6.3436164903455e-09, site: AU-Emr\n",
      "R² Score (out of sample): -6660952.737458707, site:AU-Emr\n"
     ]
    },
    {
     "name": "stderr",
     "output_type": "stream",
     "text": [
      "  4%|█▍                                        | 10/282 [00:07<03:05,  1.46it/s]"
     ]
    },
    {
     "name": "stdout",
     "output_type": "stream",
     "text": [
      "Mean Squared Error (out of sample): 1.5752874183622272e-09, site: AU-GWW\n",
      "R² Score (out of sample): -3887588.5722148325, site:AU-GWW\n"
     ]
    },
    {
     "name": "stderr",
     "output_type": "stream",
     "text": [
      "  4%|█▋                                        | 11/282 [00:08<03:18,  1.37it/s]"
     ]
    },
    {
     "name": "stdout",
     "output_type": "stream",
     "text": [
      "Mean Squared Error (out of sample): 2.941181992221431e-09, site: AU-Gin\n",
      "R² Score (out of sample): -1126340.1500544439, site:AU-Gin\n"
     ]
    },
    {
     "name": "stderr",
     "output_type": "stream",
     "text": [
      "  4%|█▊                                        | 12/282 [00:08<03:26,  1.31it/s]"
     ]
    },
    {
     "name": "stdout",
     "output_type": "stream",
     "text": [
      "Mean Squared Error (out of sample): 2.6033001039286413e-08, site: AU-How\n",
      "R² Score (out of sample): -2961803.020084593, site:AU-How\n"
     ]
    },
    {
     "name": "stderr",
     "output_type": "stream",
     "text": [
      "  5%|█▉                                        | 13/282 [00:10<04:02,  1.11it/s]"
     ]
    },
    {
     "name": "stdout",
     "output_type": "stream",
     "text": [
      "Mean Squared Error (out of sample): 7.338531012523332e-11, site: AU-Lox\n",
      "R² Score (out of sample): -101103.63258802998, site:AU-Lox\n"
     ]
    },
    {
     "name": "stderr",
     "output_type": "stream",
     "text": [
      "  5%|██                                        | 14/282 [00:10<03:41,  1.21it/s]"
     ]
    },
    {
     "name": "stdout",
     "output_type": "stream",
     "text": [
      "Mean Squared Error (out of sample): 1.837885430816484e-09, site: AU-RDF\n",
      "R² Score (out of sample): -50737128.95656293, site:AU-RDF\n"
     ]
    },
    {
     "name": "stderr",
     "output_type": "stream",
     "text": [
      "  5%|██▏                                       | 15/282 [00:11<03:25,  1.30it/s]"
     ]
    },
    {
     "name": "stdout",
     "output_type": "stream",
     "text": [
      "Mean Squared Error (out of sample): 2.1341467362342235e-09, site: AU-Rig\n",
      "R² Score (out of sample): -297996.1918996933, site:AU-Rig\n"
     ]
    },
    {
     "name": "stderr",
     "output_type": "stream",
     "text": [
      "  6%|██▍                                       | 16/282 [00:12<03:13,  1.38it/s]"
     ]
    },
    {
     "name": "stdout",
     "output_type": "stream",
     "text": [
      "Mean Squared Error (out of sample): 3.383647808296007e-08, site: AU-Rob\n",
      "R² Score (out of sample): -4646153.0966295, site:AU-Rob\n"
     ]
    },
    {
     "name": "stderr",
     "output_type": "stream",
     "text": [
      "  6%|██▌                                       | 17/282 [00:12<03:21,  1.31it/s]"
     ]
    },
    {
     "name": "stdout",
     "output_type": "stream",
     "text": [
      "Mean Squared Error (out of sample): 5.215842012197803e-10, site: AU-Stp\n",
      "R² Score (out of sample): -533791.1445117188, site:AU-Stp\n"
     ]
    },
    {
     "name": "stderr",
     "output_type": "stream",
     "text": [
      "  6%|██▋                                       | 18/282 [00:13<03:27,  1.27it/s]"
     ]
    },
    {
     "name": "stdout",
     "output_type": "stream",
     "text": [
      "Mean Squared Error (out of sample): 1.0783745793267937e-09, site: AU-TTE\n",
      "R² Score (out of sample): -9372253.172166917, site:AU-TTE\n"
     ]
    },
    {
     "name": "stderr",
     "output_type": "stream",
     "text": [
      "  7%|██▊                                       | 19/282 [00:14<03:14,  1.35it/s]"
     ]
    },
    {
     "name": "stdout",
     "output_type": "stream",
     "text": [
      "Mean Squared Error (out of sample): 2.1213042355853652e-08, site: AU-Wac\n",
      "R² Score (out of sample): -1755927.4371002126, site:AU-Wac\n"
     ]
    },
    {
     "name": "stderr",
     "output_type": "stream",
     "text": [
      "  7%|██▉                                       | 20/282 [00:15<03:07,  1.40it/s]"
     ]
    },
    {
     "name": "stdout",
     "output_type": "stream",
     "text": [
      "Mean Squared Error (out of sample): 7.334786463996212e-10, site: AU-Whr\n",
      "R² Score (out of sample): -202965.673402574, site:AU-Whr\n"
     ]
    },
    {
     "name": "stderr",
     "output_type": "stream",
     "text": [
      "  7%|███▏                                      | 21/282 [00:15<03:12,  1.36it/s]"
     ]
    },
    {
     "name": "stdout",
     "output_type": "stream",
     "text": [
      "Mean Squared Error (out of sample): 1.0405124455921905e-08, site: AU-Wom\n",
      "R² Score (out of sample): -1211286.9703917138, site:AU-Wom\n"
     ]
    },
    {
     "name": "stderr",
     "output_type": "stream",
     "text": [
      "  8%|███▎                                      | 22/282 [00:16<03:25,  1.26it/s]"
     ]
    },
    {
     "name": "stdout",
     "output_type": "stream",
     "text": [
      "Mean Squared Error (out of sample): 6.383204707717246e-11, site: AU-Ync\n",
      "R² Score (out of sample): -513139.07098965487, site:AU-Ync\n"
     ]
    },
    {
     "name": "stderr",
     "output_type": "stream",
     "text": [
      "  8%|███▍                                      | 23/282 [00:18<04:15,  1.01it/s]"
     ]
    },
    {
     "name": "stdout",
     "output_type": "stream",
     "text": [
      "Mean Squared Error (out of sample): 7.363192489141444e-13, site: BE-Bra\n",
      "R² Score (out of sample): -71.9919187701378, site:BE-Bra\n"
     ]
    },
    {
     "name": "stderr",
     "output_type": "stream",
     "text": [
      "  9%|███▌                                      | 24/282 [00:20<05:18,  1.24s/it]"
     ]
    },
    {
     "name": "stdout",
     "output_type": "stream",
     "text": [
      "Mean Squared Error (out of sample): 8.919788563052048e-10, site: BE-Dor\n",
      "R² Score (out of sample): -83649.6310586548, site:BE-Dor\n"
     ]
    },
    {
     "name": "stderr",
     "output_type": "stream",
     "text": [
      "  9%|███▋                                      | 25/282 [00:20<04:30,  1.05s/it]"
     ]
    },
    {
     "name": "stdout",
     "output_type": "stream",
     "text": [
      "Mean Squared Error (out of sample): 3.329893877517298e-09, site: BE-Lcr\n",
      "R² Score (out of sample): -231619.07838020351, site:BE-Lcr\n"
     ]
    },
    {
     "name": "stderr",
     "output_type": "stream",
     "text": [
      "  9%|███▊                                      | 26/282 [00:21<04:07,  1.03it/s]"
     ]
    },
    {
     "name": "stdout",
     "output_type": "stream",
     "text": [
      "Mean Squared Error (out of sample): 3.0688421253498176e-10, site: BE-Lon\n",
      "R² Score (out of sample): -40381.34498249067, site:BE-Lon\n"
     ]
    },
    {
     "name": "stderr",
     "output_type": "stream",
     "text": [
      " 10%|████                                      | 27/282 [00:22<04:03,  1.05it/s]"
     ]
    },
    {
     "name": "stdout",
     "output_type": "stream",
     "text": [
      "Mean Squared Error (out of sample): 5.476601516156438e-11, site: BE-Maa\n",
      "R² Score (out of sample): -38519.01854580599, site:BE-Maa\n"
     ]
    },
    {
     "name": "stderr",
     "output_type": "stream",
     "text": [
      " 10%|████▏                                     | 28/282 [00:23<04:00,  1.06it/s]"
     ]
    },
    {
     "name": "stdout",
     "output_type": "stream",
     "text": [
      "Mean Squared Error (out of sample): 1.05570038304872e-09, site: BE-Vie\n",
      "R² Score (out of sample): -133499.45499161328, site:BE-Vie\n"
     ]
    },
    {
     "name": "stderr",
     "output_type": "stream",
     "text": [
      " 10%|████▎                                     | 29/282 [00:24<04:36,  1.09s/it]"
     ]
    },
    {
     "name": "stdout",
     "output_type": "stream",
     "text": [
      "Mean Squared Error (out of sample): 9.05433398968737e-10, site: BR-Npw\n",
      "R² Score (out of sample): -86727.2844704097, site:BR-Npw\n"
     ]
    },
    {
     "name": "stderr",
     "output_type": "stream",
     "text": [
      " 11%|████▍                                     | 30/282 [00:25<04:00,  1.05it/s]"
     ]
    },
    {
     "name": "stdout",
     "output_type": "stream",
     "text": [
      "Mean Squared Error (out of sample): 5.5727724130160945e-08, site: BR-Sa3\n",
      "R² Score (out of sample): -2373668.757376545, site:BR-Sa3\n"
     ]
    },
    {
     "name": "stderr",
     "output_type": "stream",
     "text": [
      " 11%|████▌                                     | 31/282 [00:26<03:39,  1.14it/s]"
     ]
    },
    {
     "name": "stdout",
     "output_type": "stream",
     "text": [
      "Mean Squared Error (out of sample): 1.1465462446985871e-08, site: CA-ARB\n",
      "R² Score (out of sample): -18513911.032466, site:CA-ARB\n"
     ]
    },
    {
     "name": "stderr",
     "output_type": "stream",
     "text": [
      " 11%|████▊                                     | 32/282 [00:26<03:27,  1.20it/s]"
     ]
    },
    {
     "name": "stdout",
     "output_type": "stream",
     "text": [
      "Mean Squared Error (out of sample): 1.0591809660529087e-08, site: CA-ARF\n",
      "R² Score (out of sample): -10150498.998485023, site:CA-ARF\n"
     ]
    },
    {
     "name": "stderr",
     "output_type": "stream",
     "text": [
      " 12%|████▉                                     | 33/282 [00:27<03:10,  1.31it/s]"
     ]
    },
    {
     "name": "stdout",
     "output_type": "stream",
     "text": [
      "Mean Squared Error (out of sample): 6.806395529243768e-09, site: CA-DB2\n",
      "R² Score (out of sample): -5157843.9145962065, site:CA-DB2\n"
     ]
    },
    {
     "name": "stderr",
     "output_type": "stream",
     "text": [
      " 12%|█████                                     | 34/282 [00:28<03:09,  1.31it/s]"
     ]
    },
    {
     "name": "stdout",
     "output_type": "stream",
     "text": [
      "Mean Squared Error (out of sample): 1.90601830518714e-08, site: CA-DBB\n",
      "R² Score (out of sample): -35507149.1742489, site:CA-DBB\n"
     ]
    },
    {
     "name": "stderr",
     "output_type": "stream",
     "text": [
      " 12%|█████▏                                    | 35/282 [00:28<03:07,  1.32it/s]"
     ]
    },
    {
     "name": "stdout",
     "output_type": "stream",
     "text": [
      "Mean Squared Error (out of sample): 4.5394338669311095e-09, site: CA-Gro\n",
      "R² Score (out of sample): -2201942.411459083, site:CA-Gro\n"
     ]
    },
    {
     "name": "stderr",
     "output_type": "stream",
     "text": [
      " 13%|█████▎                                    | 36/282 [00:29<03:10,  1.29it/s]"
     ]
    },
    {
     "name": "stdout",
     "output_type": "stream",
     "text": [
      "Mean Squared Error (out of sample): 7.479803102963494e-09, site: CA-LP1\n",
      "R² Score (out of sample): -10161595.257216843, site:CA-LP1\n"
     ]
    },
    {
     "name": "stderr",
     "output_type": "stream",
     "text": [
      " 13%|█████▌                                    | 37/282 [00:30<03:34,  1.14it/s]"
     ]
    },
    {
     "name": "stdout",
     "output_type": "stream",
     "text": [
      "Mean Squared Error (out of sample): 5.083075437858326e-10, site: CA-NS1\n",
      "R² Score (out of sample): -185148.73476648156, site:CA-NS1\n"
     ]
    },
    {
     "name": "stderr",
     "output_type": "stream",
     "text": [
      " 13%|█████▋                                    | 38/282 [00:31<03:16,  1.24it/s]"
     ]
    },
    {
     "name": "stdout",
     "output_type": "stream",
     "text": [
      "Mean Squared Error (out of sample): 3.9474671259297944e-10, site: CA-NS2\n",
      "R² Score (out of sample): -152082.7842163218, site:CA-NS2\n"
     ]
    },
    {
     "name": "stderr",
     "output_type": "stream",
     "text": [
      " 14%|█████▊                                    | 39/282 [00:32<03:03,  1.33it/s]"
     ]
    },
    {
     "name": "stdout",
     "output_type": "stream",
     "text": [
      "Mean Squared Error (out of sample): 5.152304195121315e-10, site: CA-NS3\n",
      "R² Score (out of sample): -205675.61116510947, site:CA-NS3\n"
     ]
    },
    {
     "name": "stderr",
     "output_type": "stream",
     "text": [
      " 14%|█████▉                                    | 40/282 [00:32<02:51,  1.41it/s]"
     ]
    },
    {
     "name": "stdout",
     "output_type": "stream",
     "text": [
      "Mean Squared Error (out of sample): 6.025559641657844e-10, site: CA-NS4\n",
      "R² Score (out of sample): -615128.4226931187, site:CA-NS4\n"
     ]
    },
    {
     "name": "stderr",
     "output_type": "stream",
     "text": [
      " 15%|██████                                    | 41/282 [00:33<02:42,  1.48it/s]"
     ]
    },
    {
     "name": "stdout",
     "output_type": "stream",
     "text": [
      "Mean Squared Error (out of sample): 6.527286735039958e-10, site: CA-NS5\n",
      "R² Score (out of sample): -262265.09469808196, site:CA-NS5\n"
     ]
    },
    {
     "name": "stderr",
     "output_type": "stream",
     "text": [
      " 15%|██████▎                                   | 42/282 [00:34<03:01,  1.32it/s]"
     ]
    },
    {
     "name": "stdout",
     "output_type": "stream",
     "text": [
      "Mean Squared Error (out of sample): 1.0849682718154738e-10, site: CA-NS6\n",
      "R² Score (out of sample): -85443.4661145602, site:CA-NS6\n"
     ]
    },
    {
     "name": "stderr",
     "output_type": "stream",
     "text": [
      " 15%|██████▍                                   | 43/282 [00:34<02:59,  1.33it/s]"
     ]
    },
    {
     "name": "stdout",
     "output_type": "stream",
     "text": [
      "Mean Squared Error (out of sample): 7.154859417526345e-10, site: CA-NS7\n",
      "R² Score (out of sample): -655812.0393326405, site:CA-NS7\n"
     ]
    },
    {
     "name": "stderr",
     "output_type": "stream",
     "text": [
      " 16%|██████▌                                   | 44/282 [00:35<03:05,  1.29it/s]"
     ]
    },
    {
     "name": "stdout",
     "output_type": "stream",
     "text": [
      "Mean Squared Error (out of sample): 1.098509759535122e-09, site: CA-Oas\n",
      "R² Score (out of sample): -160799.86813036443, site:CA-Oas\n"
     ]
    },
    {
     "name": "stderr",
     "output_type": "stream",
     "text": [
      " 16%|██████▋                                   | 45/282 [00:36<03:12,  1.23it/s]"
     ]
    },
    {
     "name": "stdout",
     "output_type": "stream",
     "text": [
      "Mean Squared Error (out of sample): 8.159738883027951e-11, site: CA-Obs\n",
      "R² Score (out of sample): -29650.78060803616, site:CA-Obs\n"
     ]
    },
    {
     "name": "stderr",
     "output_type": "stream",
     "text": [
      " 16%|██████▊                                   | 46/282 [00:37<03:14,  1.21it/s]"
     ]
    },
    {
     "name": "stdout",
     "output_type": "stream",
     "text": [
      "Mean Squared Error (out of sample): 3.732924064287482e-09, site: CA-Qfo\n",
      "R² Score (out of sample): -2079001.6469458407, site:CA-Qfo\n"
     ]
    },
    {
     "name": "stderr",
     "output_type": "stream",
     "text": [
      " 17%|███████                                   | 47/282 [00:38<03:07,  1.25it/s]"
     ]
    },
    {
     "name": "stdout",
     "output_type": "stream",
     "text": [
      "Mean Squared Error (out of sample): 1.7191831744109457e-10, site: CA-SF1\n",
      "R² Score (out of sample): -20884.871415880443, site:CA-SF1\n"
     ]
    },
    {
     "name": "stderr",
     "output_type": "stream",
     "text": [
      " 17%|███████▏                                  | 48/282 [00:38<02:56,  1.33it/s]"
     ]
    },
    {
     "name": "stdout",
     "output_type": "stream",
     "text": [
      "Mean Squared Error (out of sample): 5.546000685770933e-11, site: CA-SF2\n",
      "R² Score (out of sample): -6749.884359062717, site:CA-SF2\n"
     ]
    },
    {
     "name": "stderr",
     "output_type": "stream",
     "text": [
      " 17%|███████▎                                  | 49/282 [00:39<02:48,  1.38it/s]"
     ]
    },
    {
     "name": "stdout",
     "output_type": "stream",
     "text": [
      "Mean Squared Error (out of sample): 1.3196680209851627e-10, site: CA-SF3\n",
      "R² Score (out of sample): -85726.93722402885, site:CA-SF3\n"
     ]
    },
    {
     "name": "stderr",
     "output_type": "stream",
     "text": [
      " 18%|███████▍                                  | 50/282 [00:40<02:56,  1.32it/s]"
     ]
    },
    {
     "name": "stdout",
     "output_type": "stream",
     "text": [
      "Mean Squared Error (out of sample): 3.703147472188821e-09, site: CA-TP1\n",
      "R² Score (out of sample): -627422.8232397181, site:CA-TP1\n"
     ]
    },
    {
     "name": "stderr",
     "output_type": "stream",
     "text": [
      " 18%|███████▌                                  | 51/282 [00:41<03:33,  1.08it/s]"
     ]
    },
    {
     "name": "stdout",
     "output_type": "stream",
     "text": [
      "Mean Squared Error (out of sample): 1.5521724746409974e-09, site: CA-TP4\n",
      "R² Score (out of sample): -153604.29151070712, site:CA-TP4\n"
     ]
    },
    {
     "name": "stderr",
     "output_type": "stream",
     "text": [
      " 18%|███████▋                                  | 52/282 [00:42<03:14,  1.18it/s]"
     ]
    },
    {
     "name": "stdout",
     "output_type": "stream",
     "text": [
      "Mean Squared Error (out of sample): 5.088681592666179e-09, site: CA-TPD\n",
      "R² Score (out of sample): -655940.4410373828, site:CA-TPD\n"
     ]
    },
    {
     "name": "stderr",
     "output_type": "stream",
     "text": [
      " 19%|███████▉                                  | 53/282 [00:43<03:11,  1.20it/s]"
     ]
    },
    {
     "name": "stdout",
     "output_type": "stream",
     "text": [
      "Mean Squared Error (out of sample): 1.5398314667568895e-08, site: CH-Aws\n",
      "R² Score (out of sample): -1428342.8178661857, site:CH-Aws\n"
     ]
    },
    {
     "name": "stderr",
     "output_type": "stream",
     "text": [
      " 19%|████████                                  | 54/282 [00:44<03:19,  1.14it/s]"
     ]
    },
    {
     "name": "stdout",
     "output_type": "stream",
     "text": [
      "Mean Squared Error (out of sample): 1.8518292301398472e-11, site: CH-Cha\n",
      "R² Score (out of sample): -875.4430044991676, site:CH-Cha\n"
     ]
    },
    {
     "name": "stderr",
     "output_type": "stream",
     "text": [
      " 20%|████████▏                                 | 55/282 [00:45<03:47,  1.00s/it]"
     ]
    },
    {
     "name": "stdout",
     "output_type": "stream",
     "text": [
      "Mean Squared Error (out of sample): 3.008783998670578e-09, site: CH-Dav\n",
      "R² Score (out of sample): -580341.7554685926, site:CH-Dav\n"
     ]
    },
    {
     "name": "stderr",
     "output_type": "stream",
     "text": [
      " 20%|████████▎                                 | 56/282 [00:46<04:10,  1.11s/it]"
     ]
    },
    {
     "name": "stdout",
     "output_type": "stream",
     "text": [
      "Mean Squared Error (out of sample): 3.5688581129676602e-09, site: CH-Fru\n",
      "R² Score (out of sample): -262515.26871758775, site:CH-Fru\n"
     ]
    },
    {
     "name": "stderr",
     "output_type": "stream",
     "text": [
      " 20%|████████▍                                 | 57/282 [00:47<03:56,  1.05s/it]"
     ]
    },
    {
     "name": "stdout",
     "output_type": "stream",
     "text": [
      "Mean Squared Error (out of sample): 9.80477855679031e-10, site: CH-Lae\n",
      "R² Score (out of sample): -78004.6487207809, site:CH-Lae\n"
     ]
    },
    {
     "name": "stderr",
     "output_type": "stream",
     "text": [
      " 21%|████████▋                                 | 58/282 [00:48<03:31,  1.06it/s]"
     ]
    },
    {
     "name": "stdout",
     "output_type": "stream",
     "text": [
      "Mean Squared Error (out of sample): 7.139866883070694e-11, site: CH-Oe1\n",
      "R² Score (out of sample): -9027.745360689292, site:CH-Oe1\n"
     ]
    },
    {
     "name": "stderr",
     "output_type": "stream",
     "text": [
      " 21%|████████▊                                 | 59/282 [00:49<03:23,  1.10it/s]"
     ]
    },
    {
     "name": "stdout",
     "output_type": "stream",
     "text": [
      "Mean Squared Error (out of sample): 9.31324212087864e-11, site: CH-Oe2\n",
      "R² Score (out of sample): -9394.04600843372, site:CH-Oe2\n"
     ]
    },
    {
     "name": "stderr",
     "output_type": "stream",
     "text": [
      " 21%|████████▉                                 | 60/282 [00:49<03:08,  1.18it/s]"
     ]
    },
    {
     "name": "stdout",
     "output_type": "stream",
     "text": [
      "Mean Squared Error (out of sample): 3.363892954414833e-09, site: CN-Cha\n",
      "R² Score (out of sample): -302140.66456741025, site:CN-Cha\n"
     ]
    },
    {
     "name": "stderr",
     "output_type": "stream",
     "text": [
      " 22%|█████████                                 | 61/282 [00:50<02:52,  1.28it/s]"
     ]
    },
    {
     "name": "stdout",
     "output_type": "stream",
     "text": [
      "Mean Squared Error (out of sample): 2.3949779072933086e-09, site: CN-Cng\n",
      "R² Score (out of sample): -1425702.019763557, site:CN-Cng\n"
     ]
    },
    {
     "name": "stderr",
     "output_type": "stream",
     "text": [
      " 22%|█████████▏                                | 62/282 [00:51<02:40,  1.37it/s]"
     ]
    },
    {
     "name": "stdout",
     "output_type": "stream",
     "text": [
      "Mean Squared Error (out of sample): 5.878166541552368e-09, site: CN-Dan\n",
      "R² Score (out of sample): -11899379.558732875, site:CN-Dan\n"
     ]
    },
    {
     "name": "stderr",
     "output_type": "stream",
     "text": [
      " 22%|█████████▍                                | 63/282 [00:51<02:31,  1.45it/s]"
     ]
    },
    {
     "name": "stdout",
     "output_type": "stream",
     "text": [
      "Mean Squared Error (out of sample): 2.1591625230933715e-08, site: CN-Din\n",
      "R² Score (out of sample): -3853537.643247995, site:CN-Din\n"
     ]
    },
    {
     "name": "stderr",
     "output_type": "stream",
     "text": [
      " 23%|█████████▌                                | 64/282 [00:52<02:26,  1.49it/s]"
     ]
    },
    {
     "name": "stdout",
     "output_type": "stream",
     "text": [
      "Mean Squared Error (out of sample): 2.3233815437860083e-09, site: CN-Du2\n",
      "R² Score (out of sample): -3423791.49305554, site:CN-Du2\n"
     ]
    },
    {
     "name": "stderr",
     "output_type": "stream",
     "text": [
      " 23%|█████████▋                                | 65/282 [00:53<02:31,  1.43it/s]"
     ]
    },
    {
     "name": "stdout",
     "output_type": "stream",
     "text": [
      "Mean Squared Error (out of sample): 2.5071882290942973e-09, site: CN-Du3\n",
      "R² Score (out of sample): -5712871.618786214, site:CN-Du3\n"
     ]
    },
    {
     "name": "stderr",
     "output_type": "stream",
     "text": [
      " 23%|█████████▊                                | 66/282 [00:53<02:35,  1.39it/s]"
     ]
    },
    {
     "name": "stdout",
     "output_type": "stream",
     "text": [
      "Mean Squared Error (out of sample): 1.491095389944717e-08, site: CN-Ha2\n",
      "R² Score (out of sample): -2939567.8811530876, site:CN-Ha2\n"
     ]
    },
    {
     "name": "stderr",
     "output_type": "stream",
     "text": [
      " 24%|█████████▉                                | 67/282 [00:54<02:31,  1.42it/s]"
     ]
    },
    {
     "name": "stdout",
     "output_type": "stream",
     "text": [
      "Mean Squared Error (out of sample): 2.4380749964370457e-08, site: CN-HaM\n",
      "R² Score (out of sample): -7577657.949636702, site:CN-HaM\n"
     ]
    },
    {
     "name": "stderr",
     "output_type": "stream",
     "text": [
      " 24%|██████████▏                               | 68/282 [00:55<02:35,  1.38it/s]"
     ]
    },
    {
     "name": "stdout",
     "output_type": "stream",
     "text": [
      "Mean Squared Error (out of sample): 4.180301294633267e-09, site: CN-Qia\n",
      "R² Score (out of sample): -533506.2898805905, site:CN-Qia\n"
     ]
    },
    {
     "name": "stderr",
     "output_type": "stream",
     "text": [
      " 24%|██████████▎                               | 69/282 [00:56<02:37,  1.36it/s]"
     ]
    },
    {
     "name": "stdout",
     "output_type": "stream",
     "text": [
      "Mean Squared Error (out of sample): 4.963357254809457e-11, site: CN-Sw2\n",
      "R² Score (out of sample): -432808.83421027375, site:CN-Sw2\n"
     ]
    },
    {
     "name": "stderr",
     "output_type": "stream",
     "text": [
      " 25%|██████████▍                               | 70/282 [00:57<02:42,  1.30it/s]"
     ]
    },
    {
     "name": "stdout",
     "output_type": "stream",
     "text": [
      "Mean Squared Error (out of sample): 3.95548349711257e-09, site: CZ-BK1\n",
      "R² Score (out of sample): -324038.34530144965, site:CZ-BK1\n"
     ]
    },
    {
     "name": "stderr",
     "output_type": "stream",
     "text": [
      " 25%|██████████▌                               | 71/282 [00:58<03:04,  1.14it/s]"
     ]
    },
    {
     "name": "stdout",
     "output_type": "stream",
     "text": [
      "Mean Squared Error (out of sample): 3.3006562846247904e-09, site: CZ-BK2\n",
      "R² Score (out of sample): -913313.7611883305, site:CZ-BK2\n"
     ]
    },
    {
     "name": "stderr",
     "output_type": "stream",
     "text": [
      " 26%|██████████▋                               | 72/282 [00:58<02:48,  1.24it/s]"
     ]
    },
    {
     "name": "stdout",
     "output_type": "stream",
     "text": [
      "Mean Squared Error (out of sample): 1.3574065770370002e-10, site: CZ-KrP\n",
      "R² Score (out of sample): -15086.166941738136, site:CZ-KrP\n"
     ]
    },
    {
     "name": "stderr",
     "output_type": "stream",
     "text": [
      " 26%|██████████▊                               | 73/282 [00:59<02:37,  1.32it/s]"
     ]
    },
    {
     "name": "stdout",
     "output_type": "stream",
     "text": [
      "Mean Squared Error (out of sample): 7.210392230377109e-11, site: CZ-Lnz\n",
      "R² Score (out of sample): -5434.518840512829, site:CZ-Lnz\n"
     ]
    },
    {
     "name": "stderr",
     "output_type": "stream",
     "text": [
      " 26%|███████████                               | 74/282 [01:00<02:32,  1.37it/s]"
     ]
    },
    {
     "name": "stdout",
     "output_type": "stream",
     "text": [
      "Mean Squared Error (out of sample): 8.78582198544852e-11, site: CZ-RAJ\n",
      "R² Score (out of sample): -13579.248167173551, site:CZ-RAJ\n"
     ]
    },
    {
     "name": "stderr",
     "output_type": "stream",
     "text": [
      " 27%|███████████▏                              | 75/282 [01:00<02:28,  1.40it/s]"
     ]
    },
    {
     "name": "stdout",
     "output_type": "stream",
     "text": [
      "Mean Squared Error (out of sample): 1.6752873714376683e-12, site: CZ-Stn\n",
      "R² Score (out of sample): -185.98240135802723, site:CZ-Stn\n"
     ]
    },
    {
     "name": "stderr",
     "output_type": "stream",
     "text": [
      " 27%|███████████▎                              | 76/282 [01:01<02:36,  1.32it/s]"
     ]
    },
    {
     "name": "stdout",
     "output_type": "stream",
     "text": [
      "Mean Squared Error (out of sample): 2.5307598290841208e-11, site: CZ-wet\n",
      "R² Score (out of sample): -4300.231075155096, site:CZ-wet\n"
     ]
    },
    {
     "name": "stderr",
     "output_type": "stream",
     "text": [
      " 27%|███████████▍                              | 77/282 [01:02<03:01,  1.13it/s]"
     ]
    },
    {
     "name": "stdout",
     "output_type": "stream",
     "text": [
      "Mean Squared Error (out of sample): 2.6197530433576046e-11, site: DE-Geb\n",
      "R² Score (out of sample): -3646.0426633992156, site:DE-Geb\n"
     ]
    },
    {
     "name": "stderr",
     "output_type": "stream",
     "text": [
      " 28%|███████████▌                              | 78/282 [01:04<03:18,  1.03it/s]"
     ]
    },
    {
     "name": "stdout",
     "output_type": "stream",
     "text": [
      "Mean Squared Error (out of sample): 3.2821470845559645e-09, site: DE-Gri\n",
      "R² Score (out of sample): -493765.94840802957, site:DE-Gri\n"
     ]
    },
    {
     "name": "stderr",
     "output_type": "stream",
     "text": [
      " 28%|███████████▊                              | 79/282 [01:04<03:09,  1.07it/s]"
     ]
    },
    {
     "name": "stdout",
     "output_type": "stream",
     "text": [
      "Mean Squared Error (out of sample): 1.3084203846426039e-09, site: DE-Hai\n",
      "R² Score (out of sample): -199923.44931605615, site:DE-Hai\n"
     ]
    },
    {
     "name": "stderr",
     "output_type": "stream",
     "text": [
      " 28%|███████████▉                              | 80/282 [01:05<02:56,  1.14it/s]"
     ]
    },
    {
     "name": "stdout",
     "output_type": "stream",
     "text": [
      "Mean Squared Error (out of sample): 3.308129072495858e-10, site: DE-HoH\n",
      "R² Score (out of sample): -33762.45482790586, site:DE-HoH\n"
     ]
    },
    {
     "name": "stderr",
     "output_type": "stream",
     "text": [
      " 29%|████████████                              | 81/282 [01:06<02:44,  1.22it/s]"
     ]
    },
    {
     "name": "stdout",
     "output_type": "stream",
     "text": [
      "Mean Squared Error (out of sample): 5.631893096412012e-09, site: DE-Hte\n",
      "R² Score (out of sample): -1928687.6447197641, site:DE-Hte\n"
     ]
    },
    {
     "name": "stderr",
     "output_type": "stream",
     "text": [
      " 29%|████████████▏                             | 82/282 [01:06<02:36,  1.28it/s]"
     ]
    },
    {
     "name": "stdout",
     "output_type": "stream",
     "text": [
      "Mean Squared Error (out of sample): 2.0977321692040503e-09, site: DE-Hzd\n",
      "R² Score (out of sample): -290183.5328149553, site:DE-Hzd\n"
     ]
    },
    {
     "name": "stderr",
     "output_type": "stream",
     "text": [
      " 29%|████████████▎                             | 83/282 [01:07<02:35,  1.28it/s]"
     ]
    },
    {
     "name": "stdout",
     "output_type": "stream",
     "text": [
      "Mean Squared Error (out of sample): 3.6354190283376876e-12, site: DE-Kli\n",
      "R² Score (out of sample): -563.6823127404747, site:DE-Kli\n"
     ]
    },
    {
     "name": "stderr",
     "output_type": "stream",
     "text": [
      " 30%|████████████▌                             | 84/282 [01:08<02:45,  1.19it/s]"
     ]
    },
    {
     "name": "stdout",
     "output_type": "stream",
     "text": [
      "Mean Squared Error (out of sample): 1.9924536883784764e-09, site: DE-Lkb\n",
      "R² Score (out of sample): -1489284.927436623, site:DE-Lkb\n"
     ]
    },
    {
     "name": "stderr",
     "output_type": "stream",
     "text": [
      " 30%|████████████▋                             | 85/282 [01:09<02:37,  1.25it/s]"
     ]
    },
    {
     "name": "stdout",
     "output_type": "stream",
     "text": [
      "Mean Squared Error (out of sample): 3.0320843409567626e-09, site: DE-Obe\n",
      "R² Score (out of sample): -529561.7602261605, site:DE-Obe\n"
     ]
    },
    {
     "name": "stderr",
     "output_type": "stream",
     "text": [
      " 30%|████████████▊                             | 86/282 [01:10<02:31,  1.30it/s]"
     ]
    },
    {
     "name": "stdout",
     "output_type": "stream",
     "text": [
      "Mean Squared Error (out of sample): 2.335284727500368e-10, site: DE-RuR\n",
      "R² Score (out of sample): -20311.33594682689, site:DE-RuR\n"
     ]
    },
    {
     "name": "stderr",
     "output_type": "stream",
     "text": [
      " 31%|████████████▉                             | 87/282 [01:11<02:42,  1.20it/s]"
     ]
    },
    {
     "name": "stdout",
     "output_type": "stream",
     "text": [
      "Mean Squared Error (out of sample): 5.230869581851944e-10, site: DE-RuS\n",
      "R² Score (out of sample): -58996.37523569384, site:DE-RuS\n"
     ]
    },
    {
     "name": "stderr",
     "output_type": "stream",
     "text": [
      " 31%|█████████████                             | 88/282 [01:11<02:33,  1.27it/s]"
     ]
    },
    {
     "name": "stdout",
     "output_type": "stream",
     "text": [
      "Mean Squared Error (out of sample): 2.453963963675082e-09, site: DE-RuW\n",
      "R² Score (out of sample): -243808.233964029, site:DE-RuW\n"
     ]
    },
    {
     "name": "stderr",
     "output_type": "stream",
     "text": [
      " 32%|█████████████▎                            | 89/282 [01:12<02:23,  1.34it/s]"
     ]
    },
    {
     "name": "stdout",
     "output_type": "stream",
     "text": [
      "Mean Squared Error (out of sample): 4.288871172833711e-10, site: DE-Seh\n",
      "R² Score (out of sample): -54443.66690427272, site:DE-Seh\n"
     ]
    },
    {
     "name": "stderr",
     "output_type": "stream",
     "text": [
      " 32%|█████████████▍                            | 90/282 [01:13<02:23,  1.34it/s]"
     ]
    },
    {
     "name": "stdout",
     "output_type": "stream",
     "text": [
      "Mean Squared Error (out of sample): 6.472983307145019e-09, site: DE-SfN\n",
      "R² Score (out of sample): -2745083.266727847, site:DE-SfN\n"
     ]
    },
    {
     "name": "stderr",
     "output_type": "stream",
     "text": [
      " 32%|█████████████▌                            | 91/282 [01:14<02:34,  1.24it/s]"
     ]
    },
    {
     "name": "stdout",
     "output_type": "stream",
     "text": [
      "Mean Squared Error (out of sample): 2.8987725610538464e-09, site: DE-Tha\n",
      "R² Score (out of sample): -539177.3517983136, site:DE-Tha\n"
     ]
    },
    {
     "name": "stderr",
     "output_type": "stream",
     "text": [
      " 33%|█████████████▋                            | 92/282 [01:15<03:05,  1.03it/s]"
     ]
    },
    {
     "name": "stdout",
     "output_type": "stream",
     "text": [
      "Mean Squared Error (out of sample): 5.011833237499139e-11, site: DK-Fou\n",
      "R² Score (out of sample): -60304.468971112285, site:DK-Fou\n"
     ]
    },
    {
     "name": "stderr",
     "output_type": "stream",
     "text": [
      " 33%|█████████████▊                            | 93/282 [01:16<02:42,  1.16it/s]"
     ]
    },
    {
     "name": "stdout",
     "output_type": "stream",
     "text": [
      "Mean Squared Error (out of sample): 1.0955531229248046e-09, site: DK-Gds\n",
      "R² Score (out of sample): -490774.058891085, site:DK-Gds\n"
     ]
    },
    {
     "name": "stderr",
     "output_type": "stream",
     "text": [
      " 33%|██████████████                            | 94/282 [01:16<02:27,  1.27it/s]"
     ]
    },
    {
     "name": "stdout",
     "output_type": "stream",
     "text": [
      "Mean Squared Error (out of sample): 8.680624946815838e-09, site: DK-Skj\n",
      "R² Score (out of sample): -2554552.9549576817, site:DK-Skj\n"
     ]
    },
    {
     "name": "stderr",
     "output_type": "stream",
     "text": [
      " 34%|██████████████▏                           | 95/282 [01:17<02:32,  1.23it/s]"
     ]
    },
    {
     "name": "stdout",
     "output_type": "stream",
     "text": [
      "Mean Squared Error (out of sample): 9.83496944722993e-11, site: DK-Sor\n",
      "R² Score (out of sample): -6380.386814459113, site:DK-Sor\n"
     ]
    },
    {
     "name": "stderr",
     "output_type": "stream",
     "text": [
      " 34%|██████████████▎                           | 96/282 [01:18<02:41,  1.15it/s]"
     ]
    },
    {
     "name": "stdout",
     "output_type": "stream",
     "text": [
      "Mean Squared Error (out of sample): 2.554239536840289e-10, site: DK-Vng\n",
      "R² Score (out of sample): -214858.60438481724, site:DK-Vng\n"
     ]
    },
    {
     "name": "stderr",
     "output_type": "stream",
     "text": [
      " 34%|██████████████▍                           | 97/282 [01:19<02:27,  1.26it/s]"
     ]
    },
    {
     "name": "stdout",
     "output_type": "stream",
     "text": [
      "Mean Squared Error (out of sample): 1.1524598388376834e-08, site: ES-Abr\n",
      "R² Score (out of sample): -4073168.779661025, site:ES-Abr\n"
     ]
    },
    {
     "name": "stderr",
     "output_type": "stream",
     "text": [
      " 35%|██████████████▌                           | 98/282 [01:19<02:24,  1.27it/s]"
     ]
    },
    {
     "name": "stdout",
     "output_type": "stream",
     "text": [
      "Mean Squared Error (out of sample): 1.2949705570290886e-08, site: ES-Agu\n",
      "R² Score (out of sample): -13371449.148950053, site:ES-Agu\n"
     ]
    },
    {
     "name": "stderr",
     "output_type": "stream",
     "text": [
      " 35%|██████████████▋                           | 99/282 [01:20<02:16,  1.34it/s]"
     ]
    },
    {
     "name": "stdout",
     "output_type": "stream",
     "text": [
      "Mean Squared Error (out of sample): 8.751310952211822e-09, site: ES-Amo\n",
      "R² Score (out of sample): -27446502.938842557, site:ES-Amo\n"
     ]
    },
    {
     "name": "stderr",
     "output_type": "stream",
     "text": [
      " 35%|██████████████▌                          | 100/282 [01:21<02:22,  1.28it/s]"
     ]
    },
    {
     "name": "stdout",
     "output_type": "stream",
     "text": [
      "Mean Squared Error (out of sample): 1.3157326549063626e-09, site: ES-LJu\n",
      "R² Score (out of sample): -6165914.5852848925, site:ES-LJu\n"
     ]
    },
    {
     "name": "stderr",
     "output_type": "stream",
     "text": [
      " 36%|██████████████▋                          | 101/282 [01:22<02:55,  1.03it/s]"
     ]
    },
    {
     "name": "stdout",
     "output_type": "stream",
     "text": [
      "Mean Squared Error (out of sample): 2.7368629076038724e-09, site: ES-LM1\n",
      "R² Score (out of sample): -777098.2857486844, site:ES-LM1\n"
     ]
    },
    {
     "name": "stderr",
     "output_type": "stream",
     "text": [
      " 36%|██████████████▊                          | 102/282 [01:23<02:39,  1.13it/s]"
     ]
    },
    {
     "name": "stdout",
     "output_type": "stream",
     "text": [
      "Mean Squared Error (out of sample): 2.8855391576864163e-09, site: ES-LM2\n",
      "R² Score (out of sample): -759220.8449822582, site:ES-LM2\n"
     ]
    },
    {
     "name": "stderr",
     "output_type": "stream",
     "text": [
      " 37%|██████████████▉                          | 103/282 [01:24<02:31,  1.18it/s]"
     ]
    },
    {
     "name": "stdout",
     "output_type": "stream",
     "text": [
      "Mean Squared Error (out of sample): 2.850797000688387e-10, site: ES-LgS\n",
      "R² Score (out of sample): -380206.7359177789, site:ES-LgS\n"
     ]
    },
    {
     "name": "stderr",
     "output_type": "stream",
     "text": [
      " 37%|███████████████                          | 104/282 [01:25<03:01,  1.02s/it]"
     ]
    },
    {
     "name": "stdout",
     "output_type": "stream",
     "text": [
      "Mean Squared Error (out of sample): 5.70291162171055e-09, site: FI-Hyy\n",
      "R² Score (out of sample): -1390837.7697903933, site:FI-Hyy\n"
     ]
    },
    {
     "name": "stderr",
     "output_type": "stream",
     "text": [
      " 37%|███████████████▎                         | 105/282 [01:27<03:21,  1.14s/it]"
     ]
    },
    {
     "name": "stdout",
     "output_type": "stream",
     "text": [
      "Mean Squared Error (out of sample): 1.161703806280458e-08, site: FI-Ken\n",
      "R² Score (out of sample): -4966925.917962396, site:FI-Ken\n"
     ]
    },
    {
     "name": "stderr",
     "output_type": "stream",
     "text": [
      " 38%|███████████████▍                         | 106/282 [01:28<03:06,  1.06s/it]"
     ]
    },
    {
     "name": "stdout",
     "output_type": "stream",
     "text": [
      "Mean Squared Error (out of sample): 9.495858770786542e-09, site: FI-Let\n",
      "R² Score (out of sample): -2042336.917971232, site:FI-Let\n"
     ]
    },
    {
     "name": "stderr",
     "output_type": "stream",
     "text": [
      " 38%|███████████████▌                         | 107/282 [01:28<02:43,  1.07it/s]"
     ]
    },
    {
     "name": "stdout",
     "output_type": "stream",
     "text": [
      "Mean Squared Error (out of sample): 1.2593441563628113e-08, site: FI-Lom\n",
      "R² Score (out of sample): -6058462.563616057, site:FI-Lom\n"
     ]
    },
    {
     "name": "stderr",
     "output_type": "stream",
     "text": [
      " 38%|███████████████▋                         | 108/282 [01:29<02:29,  1.16it/s]"
     ]
    },
    {
     "name": "stdout",
     "output_type": "stream",
     "text": [
      "Mean Squared Error (out of sample): 1.2198462114316813e-09, site: FI-Qvd\n",
      "R² Score (out of sample): -151788.23392617566, site:FI-Qvd\n"
     ]
    },
    {
     "name": "stderr",
     "output_type": "stream",
     "text": [
      " 39%|███████████████▊                         | 109/282 [01:30<02:18,  1.25it/s]"
     ]
    },
    {
     "name": "stdout",
     "output_type": "stream",
     "text": [
      "Mean Squared Error (out of sample): 6.394585738527209e-09, site: FI-Sii\n",
      "R² Score (out of sample): -9621116.65468057, site:FI-Sii\n"
     ]
    },
    {
     "name": "stderr",
     "output_type": "stream",
     "text": [
      " 39%|███████████████▉                         | 110/282 [01:30<02:14,  1.27it/s]"
     ]
    },
    {
     "name": "stdout",
     "output_type": "stream",
     "text": [
      "Mean Squared Error (out of sample): 7.086251328046293e-09, site: FI-Sod\n",
      "R² Score (out of sample): -4000864.49982583, site:FI-Sod\n"
     ]
    },
    {
     "name": "stderr",
     "output_type": "stream",
     "text": [
      " 39%|████████████████▏                        | 111/282 [01:31<02:22,  1.20it/s]"
     ]
    },
    {
     "name": "stdout",
     "output_type": "stream",
     "text": [
      "Mean Squared Error (out of sample): 1.1842632851797704e-08, site: FI-Var\n",
      "R² Score (out of sample): -8218330.17421828, site:FI-Var\n"
     ]
    },
    {
     "name": "stderr",
     "output_type": "stream",
     "text": [
      " 40%|████████████████▎                        | 112/282 [01:32<02:20,  1.21it/s]"
     ]
    },
    {
     "name": "stdout",
     "output_type": "stream",
     "text": [
      "Mean Squared Error (out of sample): 2.6972236242264007e-09, site: FR-Aur\n",
      "R² Score (out of sample): -510931.8581837536, site:FR-Aur\n"
     ]
    },
    {
     "name": "stderr",
     "output_type": "stream",
     "text": [
      " 40%|████████████████▍                        | 113/282 [01:34<02:53,  1.03s/it]"
     ]
    },
    {
     "name": "stdout",
     "output_type": "stream",
     "text": [
      "Mean Squared Error (out of sample): 7.86901408964225e-10, site: FR-Bil\n",
      "R² Score (out of sample): -108492.65977722121, site:FR-Bil\n"
     ]
    },
    {
     "name": "stderr",
     "output_type": "stream",
     "text": [
      " 40%|████████████████▌                        | 114/282 [01:34<02:35,  1.08it/s]"
     ]
    },
    {
     "name": "stdout",
     "output_type": "stream",
     "text": [
      "Mean Squared Error (out of sample): 1.1292410114706182e-09, site: FR-EM2\n",
      "R² Score (out of sample): -90695.54438343915, site:FR-EM2\n"
     ]
    },
    {
     "name": "stderr",
     "output_type": "stream",
     "text": [
      " 41%|████████████████▋                        | 115/282 [01:35<02:24,  1.16it/s]"
     ]
    },
    {
     "name": "stdout",
     "output_type": "stream",
     "text": [
      "Mean Squared Error (out of sample): 4.69542625184782e-12, site: FR-FBn\n",
      "R² Score (out of sample): -701.0791081554329, site:FR-FBn\n"
     ]
    },
    {
     "name": "stderr",
     "output_type": "stream",
     "text": [
      " 41%|████████████████▊                        | 116/282 [01:36<02:22,  1.17it/s]"
     ]
    },
    {
     "name": "stdout",
     "output_type": "stream",
     "text": [
      "Mean Squared Error (out of sample): 2.7131569162749903e-10, site: FR-Fon\n",
      "R² Score (out of sample): -20499.112791047584, site:FR-Fon\n"
     ]
    },
    {
     "name": "stderr",
     "output_type": "stream",
     "text": [
      " 41%|█████████████████                        | 117/282 [01:37<02:22,  1.15it/s]"
     ]
    },
    {
     "name": "stdout",
     "output_type": "stream",
     "text": [
      "Mean Squared Error (out of sample): 1.9059776011248226e-10, site: FR-Gri\n",
      "R² Score (out of sample): -23251.524457226882, site:FR-Gri\n"
     ]
    },
    {
     "name": "stderr",
     "output_type": "stream",
     "text": [
      " 42%|█████████████████▏                       | 118/282 [01:38<02:20,  1.17it/s]"
     ]
    },
    {
     "name": "stdout",
     "output_type": "stream",
     "text": [
      "Mean Squared Error (out of sample): 6.05366504876261e-10, site: FR-Hes\n",
      "R² Score (out of sample): -52261.852331846305, site:FR-Hes\n"
     ]
    },
    {
     "name": "stderr",
     "output_type": "stream",
     "text": [
      " 42%|█████████████████▎                       | 119/282 [01:38<02:15,  1.20it/s]"
     ]
    },
    {
     "name": "stdout",
     "output_type": "stream",
     "text": [
      "Mean Squared Error (out of sample): 3.641348076485616e-10, site: FR-LBr\n",
      "R² Score (out of sample): -42196.563899278284, site:FR-LBr\n"
     ]
    },
    {
     "name": "stderr",
     "output_type": "stream",
     "text": [
      " 43%|█████████████████▍                       | 120/282 [01:39<02:18,  1.17it/s]"
     ]
    },
    {
     "name": "stdout",
     "output_type": "stream",
     "text": [
      "Mean Squared Error (out of sample): 6.159386404502622e-12, site: FR-LGt\n",
      "R² Score (out of sample): -1234.757842302539, site:FR-LGt\n"
     ]
    },
    {
     "name": "stderr",
     "output_type": "stream",
     "text": [
      " 43%|█████████████████▌                       | 121/282 [01:40<02:14,  1.20it/s]"
     ]
    },
    {
     "name": "stdout",
     "output_type": "stream",
     "text": [
      "Mean Squared Error (out of sample): 3.743947351808312e-09, site: FR-Lam\n",
      "R² Score (out of sample): -349826.45257324865, site:FR-Lam\n"
     ]
    },
    {
     "name": "stderr",
     "output_type": "stream",
     "text": [
      " 43%|█████████████████▋                       | 122/282 [01:41<02:32,  1.05it/s]"
     ]
    },
    {
     "name": "stdout",
     "output_type": "stream",
     "text": [
      "Mean Squared Error (out of sample): 1.7534753084737552e-09, site: FR-Mej\n",
      "R² Score (out of sample): -257410.88220671847, site:FR-Mej\n"
     ]
    },
    {
     "name": "stderr",
     "output_type": "stream",
     "text": [
      " 44%|█████████████████▉                       | 123/282 [01:42<02:21,  1.12it/s]"
     ]
    },
    {
     "name": "stdout",
     "output_type": "stream",
     "text": [
      "Mean Squared Error (out of sample): 1.449803973726421e-10, site: FR-Pue\n",
      "R² Score (out of sample): -69697.91529232226, site:FR-Pue\n"
     ]
    },
    {
     "name": "stderr",
     "output_type": "stream",
     "text": [
      " 44%|██████████████████                       | 124/282 [01:43<02:11,  1.20it/s]"
     ]
    },
    {
     "name": "stdout",
     "output_type": "stream",
     "text": [
      "Mean Squared Error (out of sample): 4.675129922127099e-09, site: FR-Tou\n",
      "R² Score (out of sample): -1181992.7618946393, site:FR-Tou\n"
     ]
    },
    {
     "name": "stderr",
     "output_type": "stream",
     "text": [
      " 44%|██████████████████▏                      | 125/282 [01:43<02:00,  1.30it/s]"
     ]
    },
    {
     "name": "stdout",
     "output_type": "stream",
     "text": [
      "Mean Squared Error (out of sample): 1.699453402748554e-08, site: GF-Guy\n",
      "R² Score (out of sample): -745963.1255506019, site:GF-Guy\n"
     ]
    },
    {
     "name": "stderr",
     "output_type": "stream",
     "text": [
      " 45%|██████████████████▎                      | 126/282 [01:44<01:55,  1.35it/s]"
     ]
    },
    {
     "name": "stdout",
     "output_type": "stream",
     "text": [
      "Mean Squared Error (out of sample): 6.995015993873121e-09, site: GH-Ank\n",
      "R² Score (out of sample): -527624.9290295789, site:GH-Ank\n"
     ]
    },
    {
     "name": "stderr",
     "output_type": "stream",
     "text": [
      " 45%|██████████████████▍                      | 127/282 [01:45<01:55,  1.34it/s]"
     ]
    },
    {
     "name": "stdout",
     "output_type": "stream",
     "text": [
      "Mean Squared Error (out of sample): 5.5072469286833956e-08, site: GL-NuF\n",
      "R² Score (out of sample): -66671140.59647627, site:GL-NuF\n"
     ]
    },
    {
     "name": "stderr",
     "output_type": "stream",
     "text": [
      " 45%|██████████████████▌                      | 128/282 [01:46<02:03,  1.24it/s]"
     ]
    },
    {
     "name": "stdout",
     "output_type": "stream",
     "text": [
      "Mean Squared Error (out of sample): 4.615979958432528e-08, site: GL-ZaF\n",
      "R² Score (out of sample): -95547840.97107466, site:GL-ZaF\n"
     ]
    },
    {
     "name": "stderr",
     "output_type": "stream",
     "text": [
      " 46%|██████████████████▊                      | 129/282 [01:46<02:01,  1.26it/s]"
     ]
    },
    {
     "name": "stdout",
     "output_type": "stream",
     "text": [
      "Mean Squared Error (out of sample): 5.3719116906287134e-08, site: GL-ZaH\n",
      "R² Score (out of sample): -1074471093.134191, site:GL-ZaH\n"
     ]
    },
    {
     "name": "stderr",
     "output_type": "stream",
     "text": [
      " 46%|██████████████████▉                      | 130/282 [01:48<02:26,  1.04it/s]"
     ]
    },
    {
     "name": "stdout",
     "output_type": "stream",
     "text": [
      "Mean Squared Error (out of sample): 5.556821172123751e-09, site: IL-Yat\n",
      "R² Score (out of sample): -4451816.464892, site:IL-Yat\n"
     ]
    },
    {
     "name": "stderr",
     "output_type": "stream",
     "text": [
      " 46%|███████████████████                      | 131/282 [01:49<02:31,  1.01s/it]"
     ]
    },
    {
     "name": "stdout",
     "output_type": "stream",
     "text": [
      "Mean Squared Error (out of sample): 5.696983021418141e-10, site: IT-BCi\n",
      "R² Score (out of sample): -42333.501830062036, site:IT-BCi\n"
     ]
    },
    {
     "name": "stderr",
     "output_type": "stream",
     "text": [
      " 47%|███████████████████▏                     | 132/282 [01:50<02:19,  1.08it/s]"
     ]
    },
    {
     "name": "stdout",
     "output_type": "stream",
     "text": [
      "Mean Squared Error (out of sample): 1.944192542850545e-10, site: IT-BFt\n",
      "R² Score (out of sample): -10741.611937024687, site:IT-BFt\n"
     ]
    },
    {
     "name": "stderr",
     "output_type": "stream",
     "text": [
      " 47%|███████████████████▎                     | 133/282 [01:50<02:05,  1.19it/s]"
     ]
    },
    {
     "name": "stdout",
     "output_type": "stream",
     "text": [
      "Mean Squared Error (out of sample): 1.900838276505168e-09, site: IT-CA1\n",
      "R² Score (out of sample): -372345.95129854017, site:IT-CA1\n"
     ]
    },
    {
     "name": "stderr",
     "output_type": "stream",
     "text": [
      " 48%|███████████████████▍                     | 134/282 [01:51<02:01,  1.22it/s]"
     ]
    },
    {
     "name": "stdout",
     "output_type": "stream",
     "text": [
      "Mean Squared Error (out of sample): 1.870767328200468e-09, site: IT-CA2\n",
      "R² Score (out of sample): -435404.69953938585, site:IT-CA2\n"
     ]
    },
    {
     "name": "stderr",
     "output_type": "stream",
     "text": [
      " 48%|███████████████████▋                     | 135/282 [01:52<01:56,  1.26it/s]"
     ]
    },
    {
     "name": "stdout",
     "output_type": "stream",
     "text": [
      "Mean Squared Error (out of sample): 1.9468204524611802e-09, site: IT-CA3\n",
      "R² Score (out of sample): -119395.78630466733, site:IT-CA3\n"
     ]
    },
    {
     "name": "stderr",
     "output_type": "stream",
     "text": [
      " 48%|███████████████████▊                     | 136/282 [01:53<02:00,  1.21it/s]"
     ]
    },
    {
     "name": "stdout",
     "output_type": "stream",
     "text": [
      "Mean Squared Error (out of sample): 4.780790192501438e-09, site: IT-Col\n",
      "R² Score (out of sample): -472979.65319592063, site:IT-Col\n"
     ]
    },
    {
     "name": "stderr",
     "output_type": "stream",
     "text": [
      " 49%|███████████████████▉                     | 137/282 [01:54<02:32,  1.05s/it]"
     ]
    },
    {
     "name": "stdout",
     "output_type": "stream",
     "text": [
      "Mean Squared Error (out of sample): 2.2119520852387815e-11, site: IT-Cp2\n",
      "R² Score (out of sample): -1948.393706093437, site:IT-Cp2\n"
     ]
    },
    {
     "name": "stderr",
     "output_type": "stream",
     "text": [
      " 49%|████████████████████                     | 138/282 [01:55<02:18,  1.04it/s]"
     ]
    },
    {
     "name": "stdout",
     "output_type": "stream",
     "text": [
      "Mean Squared Error (out of sample): 1.5127856545982483e-10, site: IT-Cpz\n",
      "R² Score (out of sample): -19484.283919871934, site:IT-Cpz\n"
     ]
    },
    {
     "name": "stderr",
     "output_type": "stream",
     "text": [
      " 49%|████████████████████▏                    | 139/282 [01:56<02:05,  1.14it/s]"
     ]
    },
    {
     "name": "stdout",
     "output_type": "stream",
     "text": [
      "Mean Squared Error (out of sample): 2.274537826730333e-09, site: IT-Isp\n",
      "R² Score (out of sample): -212454.41749084787, site:IT-Isp\n"
     ]
    },
    {
     "name": "stderr",
     "output_type": "stream",
     "text": [
      " 50%|████████████████████▎                    | 140/282 [01:57<02:07,  1.12it/s]"
     ]
    },
    {
     "name": "stdout",
     "output_type": "stream",
     "text": [
      "Mean Squared Error (out of sample): 2.5969414632756255e-09, site: IT-La2\n",
      "R² Score (out of sample): -512867.8555844422, site:IT-La2\n"
     ]
    },
    {
     "name": "stderr",
     "output_type": "stream",
     "text": [
      " 50%|████████████████████▌                    | 141/282 [01:58<02:16,  1.03it/s]"
     ]
    },
    {
     "name": "stdout",
     "output_type": "stream",
     "text": [
      "Mean Squared Error (out of sample): 2.892999269652772e-09, site: IT-Lav\n",
      "R² Score (out of sample): -205437.52075982033, site:IT-Lav\n"
     ]
    },
    {
     "name": "stderr",
     "output_type": "stream",
     "text": [
      " 50%|████████████████████▋                    | 142/282 [02:00<02:53,  1.24s/it]"
     ]
    },
    {
     "name": "stdout",
     "output_type": "stream",
     "text": [
      "Mean Squared Error (out of sample): 3.917449346528075e-10, site: IT-Lsn\n",
      "R² Score (out of sample): -93284.57442857504, site:IT-Lsn\n"
     ]
    },
    {
     "name": "stderr",
     "output_type": "stream",
     "text": [
      " 51%|████████████████████▊                    | 143/282 [02:01<02:54,  1.26s/it]"
     ]
    },
    {
     "name": "stdout",
     "output_type": "stream",
     "text": [
      "Mean Squared Error (out of sample): 9.088762919039934e-10, site: IT-MBo\n",
      "R² Score (out of sample): -84997.46915685308, site:IT-MBo\n"
     ]
    },
    {
     "name": "stderr",
     "output_type": "stream",
     "text": [
      " 51%|████████████████████▉                    | 144/282 [02:02<02:37,  1.14s/it]"
     ]
    },
    {
     "name": "stdout",
     "output_type": "stream",
     "text": [
      "Mean Squared Error (out of sample): 1.6222509765903366e-09, site: IT-Noe\n",
      "R² Score (out of sample): -714908.4322879646, site:IT-Noe\n"
     ]
    },
    {
     "name": "stderr",
     "output_type": "stream",
     "text": [
      " 51%|█████████████████████                    | 145/282 [02:02<02:15,  1.01it/s]"
     ]
    },
    {
     "name": "stdout",
     "output_type": "stream",
     "text": [
      "Mean Squared Error (out of sample): 4.85133866411764e-10, site: IT-PT1\n",
      "R² Score (out of sample): -39592.46822834153, site:IT-PT1\n"
     ]
    },
    {
     "name": "stderr",
     "output_type": "stream",
     "text": [
      " 52%|█████████████████████▏                   | 146/282 [02:03<02:10,  1.05it/s]"
     ]
    },
    {
     "name": "stdout",
     "output_type": "stream",
     "text": [
      "Mean Squared Error (out of sample): 2.3748823455174804e-09, site: IT-Ren\n",
      "R² Score (out of sample): -311759.6363853735, site:IT-Ren\n"
     ]
    },
    {
     "name": "stderr",
     "output_type": "stream",
     "text": [
      " 52%|█████████████████████▎                   | 147/282 [02:05<02:32,  1.13s/it]"
     ]
    },
    {
     "name": "stdout",
     "output_type": "stream",
     "text": [
      "Mean Squared Error (out of sample): 8.773741101185526e-12, site: IT-Ro1\n",
      "R² Score (out of sample): -1191.9798637774823, site:IT-Ro1\n"
     ]
    },
    {
     "name": "stderr",
     "output_type": "stream",
     "text": [
      " 52%|█████████████████████▌                   | 148/282 [02:06<02:15,  1.01s/it]"
     ]
    },
    {
     "name": "stdout",
     "output_type": "stream",
     "text": [
      "Mean Squared Error (out of sample): 5.1334994912330415e-12, site: IT-SR2\n",
      "R² Score (out of sample): -354.01549192140186, site:IT-SR2\n"
     ]
    },
    {
     "name": "stderr",
     "output_type": "stream",
     "text": [
      " 53%|█████████████████████▋                   | 149/282 [02:06<02:04,  1.06it/s]"
     ]
    },
    {
     "name": "stdout",
     "output_type": "stream",
     "text": [
      "Mean Squared Error (out of sample): 3.3942294494357375e-09, site: IT-SRo\n",
      "R² Score (out of sample): -330868.33810627455, site:IT-SRo\n"
     ]
    },
    {
     "name": "stderr",
     "output_type": "stream",
     "text": [
      " 53%|█████████████████████▊                   | 150/282 [02:07<02:02,  1.08it/s]"
     ]
    },
    {
     "name": "stdout",
     "output_type": "stream",
     "text": [
      "Mean Squared Error (out of sample): 8.545820006069836e-09, site: IT-Tor\n",
      "R² Score (out of sample): -1841523.4989951844, site:IT-Tor\n"
     ]
    },
    {
     "name": "stderr",
     "output_type": "stream",
     "text": [
      " 54%|█████████████████████▉                   | 151/282 [02:08<01:53,  1.16it/s]"
     ]
    },
    {
     "name": "stdout",
     "output_type": "stream",
     "text": [
      "Mean Squared Error (out of sample): 9.680470120831586e-09, site: JP-SMF\n",
      "R² Score (out of sample): -1340243.8785579351, site:JP-SMF\n"
     ]
    },
    {
     "name": "stderr",
     "output_type": "stream",
     "text": [
      " 54%|██████████████████████                   | 152/282 [02:09<01:47,  1.21it/s]"
     ]
    },
    {
     "name": "stdout",
     "output_type": "stream",
     "text": [
      "Mean Squared Error (out of sample): 7.467051158986554e-09, site: MX-Tes\n",
      "R² Score (out of sample): -6679165.59987121, site:MX-Tes\n"
     ]
    },
    {
     "name": "stderr",
     "output_type": "stream",
     "text": [
      " 54%|██████████████████████▏                  | 153/282 [02:09<01:40,  1.29it/s]"
     ]
    },
    {
     "name": "stdout",
     "output_type": "stream",
     "text": [
      "Mean Squared Error (out of sample): 5.1471290467960886e-08, site: MY-PSO\n",
      "R² Score (out of sample): -3937280.9706742824, site:MY-PSO\n"
     ]
    },
    {
     "name": "stderr",
     "output_type": "stream",
     "text": [
      " 55%|██████████████████████▍                  | 154/282 [02:10<01:36,  1.33it/s]"
     ]
    },
    {
     "name": "stdout",
     "output_type": "stream",
     "text": [
      "Mean Squared Error (out of sample): 6.213151700795186e-09, site: NL-Hor\n",
      "R² Score (out of sample): -960088.7020811848, site:NL-Hor\n"
     ]
    },
    {
     "name": "stderr",
     "output_type": "stream",
     "text": [
      " 55%|██████████████████████▌                  | 155/282 [02:11<01:47,  1.18it/s]"
     ]
    },
    {
     "name": "stdout",
     "output_type": "stream",
     "text": [
      "Mean Squared Error (out of sample): 1.40567107581515e-09, site: NL-Loo\n",
      "R² Score (out of sample): -175617.71523011028, site:NL-Loo\n"
     ]
    },
    {
     "name": "stderr",
     "output_type": "stream",
     "text": [
      " 55%|██████████████████████▋                  | 156/282 [02:12<01:57,  1.07it/s]"
     ]
    },
    {
     "name": "stdout",
     "output_type": "stream",
     "text": [
      "Mean Squared Error (out of sample): 1.2160960534582111e-08, site: PA-SPn\n",
      "R² Score (out of sample): -952031.4369251418, site:PA-SPn\n"
     ]
    },
    {
     "name": "stderr",
     "output_type": "stream",
     "text": [
      " 56%|██████████████████████▊                  | 157/282 [02:13<01:51,  1.12it/s]"
     ]
    },
    {
     "name": "stdout",
     "output_type": "stream",
     "text": [
      "Mean Squared Error (out of sample): 1.0090356048205476e-08, site: PA-SPs\n",
      "R² Score (out of sample): -614729.4832338461, site:PA-SPs\n"
     ]
    },
    {
     "name": "stderr",
     "output_type": "stream",
     "text": [
      " 56%|██████████████████████▉                  | 158/282 [02:14<01:57,  1.06it/s]"
     ]
    },
    {
     "name": "stdout",
     "output_type": "stream",
     "text": [
      "Mean Squared Error (out of sample): 2.063830418516915e-08, site: RU-Che\n",
      "R² Score (out of sample): -87413987.06788965, site:RU-Che\n"
     ]
    },
    {
     "name": "stderr",
     "output_type": "stream",
     "text": [
      " 56%|███████████████████████                  | 159/282 [02:15<02:11,  1.07s/it]"
     ]
    },
    {
     "name": "stdout",
     "output_type": "stream",
     "text": [
      "Mean Squared Error (out of sample): 1.970166027915018e-08, site: RU-Cok\n",
      "R² Score (out of sample): -26718550.51974785, site:RU-Cok\n"
     ]
    },
    {
     "name": "stderr",
     "output_type": "stream",
     "text": [
      " 57%|███████████████████████▎                 | 160/282 [02:17<02:31,  1.24s/it]"
     ]
    },
    {
     "name": "stdout",
     "output_type": "stream",
     "text": [
      "Mean Squared Error (out of sample): 2.000651788876973e-12, site: RU-Fy2\n",
      "R² Score (out of sample): -288.79708210227835, site:RU-Fy2\n"
     ]
    },
    {
     "name": "stderr",
     "output_type": "stream",
     "text": [
      " 57%|███████████████████████▍                 | 161/282 [02:19<02:47,  1.38s/it]"
     ]
    },
    {
     "name": "stdout",
     "output_type": "stream",
     "text": [
      "Mean Squared Error (out of sample): 6.762714689133838e-11, site: RU-Fyo\n",
      "R² Score (out of sample): -8639.899881451012, site:RU-Fyo\n"
     ]
    },
    {
     "name": "stderr",
     "output_type": "stream",
     "text": [
      " 57%|███████████████████████▌                 | 162/282 [02:20<02:52,  1.44s/it]"
     ]
    },
    {
     "name": "stdout",
     "output_type": "stream",
     "text": [
      "Mean Squared Error (out of sample): 1.5866612989884522e-09, site: RU-Ha1\n",
      "R² Score (out of sample): -730654.2924277788, site:RU-Ha1\n"
     ]
    },
    {
     "name": "stderr",
     "output_type": "stream",
     "text": [
      " 58%|███████████████████████▋                 | 163/282 [02:22<02:46,  1.40s/it]"
     ]
    },
    {
     "name": "stdout",
     "output_type": "stream",
     "text": [
      "Mean Squared Error (out of sample): 8.38733067794517e-09, site: SE-Deg\n",
      "R² Score (out of sample): -45264251.82666295, site:SE-Deg\n"
     ]
    },
    {
     "name": "stderr",
     "output_type": "stream",
     "text": [
      " 58%|███████████████████████▊                 | 164/282 [02:23<02:38,  1.34s/it]"
     ]
    },
    {
     "name": "stdout",
     "output_type": "stream",
     "text": [
      "Mean Squared Error (out of sample): 1.3217979786083527e-10, site: SE-Htm\n",
      "R² Score (out of sample): -12665.52432745889, site:SE-Htm\n"
     ]
    },
    {
     "name": "stderr",
     "output_type": "stream",
     "text": [
      " 59%|███████████████████████▉                 | 165/282 [02:24<02:12,  1.13s/it]"
     ]
    },
    {
     "name": "stdout",
     "output_type": "stream",
     "text": [
      "Mean Squared Error (out of sample): 2.476557048308135e-12, site: SE-Lnn\n",
      "R² Score (out of sample): -858.3637497754735, site:SE-Lnn\n"
     ]
    },
    {
     "name": "stderr",
     "output_type": "stream",
     "text": [
      " 59%|████████████████████████▏                | 166/282 [02:24<01:55,  1.00it/s]"
     ]
    },
    {
     "name": "stdout",
     "output_type": "stream",
     "text": [
      "Mean Squared Error (out of sample): 9.219748467238896e-10, site: SE-Nor\n",
      "R² Score (out of sample): -130350.80483942115, site:SE-Nor\n"
     ]
    },
    {
     "name": "stderr",
     "output_type": "stream",
     "text": [
      " 59%|████████████████████████▎                | 167/282 [02:25<01:44,  1.10it/s]"
     ]
    },
    {
     "name": "stdout",
     "output_type": "stream",
     "text": [
      "Mean Squared Error (out of sample): 1.0133865668171508e-08, site: SE-Ros\n",
      "R² Score (out of sample): -3935260.4743815456, site:SE-Ros\n"
     ]
    },
    {
     "name": "stderr",
     "output_type": "stream",
     "text": [
      " 60%|████████████████████████▍                | 168/282 [02:26<01:34,  1.21it/s]"
     ]
    },
    {
     "name": "stdout",
     "output_type": "stream",
     "text": [
      "Mean Squared Error (out of sample): 1.4235894306552296e-08, site: SE-Svb\n",
      "R² Score (out of sample): -3991874.419262838, site:SE-Svb\n"
     ]
    },
    {
     "name": "stderr",
     "output_type": "stream",
     "text": [
      " 60%|████████████████████████▌                | 169/282 [02:26<01:26,  1.31it/s]"
     ]
    },
    {
     "name": "stdout",
     "output_type": "stream",
     "text": [
      "Mean Squared Error (out of sample): 3.100470303709763e-06, site: SJ-Adv\n",
      "R² Score (out of sample): -90147484497.49747, site:SJ-Adv\n"
     ]
    },
    {
     "name": "stderr",
     "output_type": "stream",
     "text": [
      " 60%|████████████████████████▋                | 170/282 [02:27<01:28,  1.26it/s]"
     ]
    },
    {
     "name": "stdout",
     "output_type": "stream",
     "text": [
      "Mean Squared Error (out of sample): 4.2646233994368705e-08, site: US-A32\n",
      "R² Score (out of sample): -4562455.347052498, site:US-A32\n"
     ]
    },
    {
     "name": "stderr",
     "output_type": "stream",
     "text": [
      " 61%|████████████████████████▊                | 171/282 [02:28<01:26,  1.29it/s]"
     ]
    },
    {
     "name": "stdout",
     "output_type": "stream",
     "text": [
      "Mean Squared Error (out of sample): 1.404709154532675e-08, site: US-AR1\n",
      "R² Score (out of sample): -8107651.714173351, site:US-AR1\n"
     ]
    },
    {
     "name": "stderr",
     "output_type": "stream",
     "text": [
      " 61%|█████████████████████████                | 172/282 [02:29<01:22,  1.33it/s]"
     ]
    },
    {
     "name": "stdout",
     "output_type": "stream",
     "text": [
      "Mean Squared Error (out of sample): 1.6834848095582016e-08, site: US-AR2\n",
      "R² Score (out of sample): -42915570.84211834, site:US-AR2\n"
     ]
    },
    {
     "name": "stderr",
     "output_type": "stream",
     "text": [
      " 61%|█████████████████████████▏               | 173/282 [02:30<01:30,  1.20it/s]"
     ]
    },
    {
     "name": "stdout",
     "output_type": "stream",
     "text": [
      "Mean Squared Error (out of sample): 5.029173346995017e-08, site: US-ARM\n",
      "R² Score (out of sample): -7809008.841967593, site:US-ARM\n"
     ]
    },
    {
     "name": "stderr",
     "output_type": "stream",
     "text": [
      " 62%|█████████████████████████▎               | 174/282 [02:31<01:51,  1.04s/it]"
     ]
    },
    {
     "name": "stdout",
     "output_type": "stream",
     "text": [
      "Mean Squared Error (out of sample): 4.628267489828134e-08, site: US-ARb\n",
      "R² Score (out of sample): -61742354.44758102, site:US-ARb\n"
     ]
    },
    {
     "name": "stderr",
     "output_type": "stream",
     "text": [
      " 62%|█████████████████████████▍               | 175/282 [02:32<01:37,  1.09it/s]"
     ]
    },
    {
     "name": "stdout",
     "output_type": "stream",
     "text": [
      "Mean Squared Error (out of sample): 4.793822111866657e-08, site: US-ARc\n",
      "R² Score (out of sample): -33155611.617142722, site:US-ARc\n"
     ]
    },
    {
     "name": "stderr",
     "output_type": "stream",
     "text": [
      " 62%|█████████████████████████▌               | 176/282 [02:32<01:30,  1.17it/s]"
     ]
    },
    {
     "name": "stdout",
     "output_type": "stream",
     "text": [
      "Mean Squared Error (out of sample): 4.399024687938909e-08, site: US-Atq\n",
      "R² Score (out of sample): -188030774.29475662, site:US-Atq\n"
     ]
    },
    {
     "name": "stderr",
     "output_type": "stream",
     "text": [
      " 63%|█████████████████████████▋               | 177/282 [02:33<01:27,  1.20it/s]"
     ]
    },
    {
     "name": "stdout",
     "output_type": "stream",
     "text": [
      "Mean Squared Error (out of sample): 2.7119696292827545e-08, site: US-BZB\n",
      "R² Score (out of sample): -31570287.96655141, site:US-BZB\n"
     ]
    },
    {
     "name": "stderr",
     "output_type": "stream",
     "text": [
      " 63%|█████████████████████████▉               | 178/282 [02:34<01:24,  1.23it/s]"
     ]
    },
    {
     "name": "stdout",
     "output_type": "stream",
     "text": [
      "Mean Squared Error (out of sample): 2.0451303598948862e-08, site: US-BZF\n",
      "R² Score (out of sample): -14743487.03225578, site:US-BZF\n"
     ]
    },
    {
     "name": "stderr",
     "output_type": "stream",
     "text": [
      " 63%|██████████████████████████               | 179/282 [02:35<01:22,  1.25it/s]"
     ]
    },
    {
     "name": "stdout",
     "output_type": "stream",
     "text": [
      "Mean Squared Error (out of sample): 2.5273587107383872e-08, site: US-BZS\n",
      "R² Score (out of sample): -13366144.390132157, site:US-BZS\n"
     ]
    },
    {
     "name": "stderr",
     "output_type": "stream",
     "text": [
      " 64%|██████████████████████████▏              | 180/282 [02:36<01:27,  1.17it/s]"
     ]
    },
    {
     "name": "stdout",
     "output_type": "stream",
     "text": [
      "Mean Squared Error (out of sample): 2.226453253674241e-08, site: US-BZo\n",
      "R² Score (out of sample): -18041352.68276341, site:US-BZo\n"
     ]
    },
    {
     "name": "stderr",
     "output_type": "stream",
     "text": [
      " 64%|██████████████████████████▎              | 181/282 [02:36<01:21,  1.23it/s]"
     ]
    },
    {
     "name": "stdout",
     "output_type": "stream",
     "text": [
      "Mean Squared Error (out of sample): 2.713635365319822e-09, site: US-Bi1\n",
      "R² Score (out of sample): -177601.00133618875, site:US-Bi1\n"
     ]
    },
    {
     "name": "stderr",
     "output_type": "stream",
     "text": [
      " 65%|██████████████████████████▍              | 182/282 [02:37<01:19,  1.25it/s]"
     ]
    },
    {
     "name": "stdout",
     "output_type": "stream",
     "text": [
      "Mean Squared Error (out of sample): 4.7137992870075875e-08, site: US-Bi2\n",
      "R² Score (out of sample): -2593225.4129007095, site:US-Bi2\n"
     ]
    },
    {
     "name": "stderr",
     "output_type": "stream",
     "text": [
      " 65%|██████████████████████████▌              | 183/282 [02:38<01:20,  1.23it/s]"
     ]
    },
    {
     "name": "stdout",
     "output_type": "stream",
     "text": [
      "Mean Squared Error (out of sample): 1.6992534534773678e-08, site: US-Blo\n",
      "R² Score (out of sample): -2735575.2568948036, site:US-Blo\n"
     ]
    },
    {
     "name": "stderr",
     "output_type": "stream",
     "text": [
      " 65%|██████████████████████████▊              | 184/282 [02:39<01:28,  1.11it/s]"
     ]
    },
    {
     "name": "stdout",
     "output_type": "stream",
     "text": [
      "Mean Squared Error (out of sample): 6.223565909239319e-09, site: US-CF1\n",
      "R² Score (out of sample): -759030.1318892725, site:US-CF1\n"
     ]
    },
    {
     "name": "stderr",
     "output_type": "stream",
     "text": [
      " 66%|██████████████████████████▉              | 185/282 [02:40<01:20,  1.20it/s]"
     ]
    },
    {
     "name": "stdout",
     "output_type": "stream",
     "text": [
      "Mean Squared Error (out of sample): 5.698617347680544e-09, site: US-CF2\n",
      "R² Score (out of sample): -807338.7484149996, site:US-CF2\n"
     ]
    },
    {
     "name": "stderr",
     "output_type": "stream",
     "text": [
      " 66%|███████████████████████████              | 186/282 [02:41<01:16,  1.26it/s]"
     ]
    },
    {
     "name": "stdout",
     "output_type": "stream",
     "text": [
      "Mean Squared Error (out of sample): 4.953192972458063e-09, site: US-CF3\n",
      "R² Score (out of sample): -18486546.951786783, site:US-CF3\n"
     ]
    },
    {
     "name": "stderr",
     "output_type": "stream",
     "text": [
      " 66%|███████████████████████████▏             | 187/282 [02:41<01:13,  1.29it/s]"
     ]
    },
    {
     "name": "stdout",
     "output_type": "stream",
     "text": [
      "Mean Squared Error (out of sample): 4.895791210633829e-09, site: US-CF4\n",
      "R² Score (out of sample): -1051453.649186376, site:US-CF4\n"
     ]
    },
    {
     "name": "stderr",
     "output_type": "stream",
     "text": [
      " 67%|███████████████████████████▎             | 188/282 [02:42<01:13,  1.29it/s]"
     ]
    },
    {
     "name": "stdout",
     "output_type": "stream",
     "text": [
      "Mean Squared Error (out of sample): 3.265154609411844e-08, site: US-CRT\n",
      "R² Score (out of sample): -5299969.270266144, site:US-CRT\n"
     ]
    },
    {
     "name": "stderr",
     "output_type": "stream",
     "text": [
      " 67%|███████████████████████████▍             | 189/282 [02:43<01:11,  1.30it/s]"
     ]
    },
    {
     "name": "stdout",
     "output_type": "stream",
     "text": [
      "Mean Squared Error (out of sample): 2.8308114031960503e-08, site: US-CS1\n",
      "R² Score (out of sample): -164788882.42285758, site:US-CS1\n"
     ]
    },
    {
     "name": "stderr",
     "output_type": "stream",
     "text": [
      " 67%|███████████████████████████▌             | 190/282 [02:43<01:09,  1.32it/s]"
     ]
    },
    {
     "name": "stdout",
     "output_type": "stream",
     "text": [
      "Mean Squared Error (out of sample): 2.3891634954840087e-08, site: US-CS3\n",
      "R² Score (out of sample): -11066405.893265879, site:US-CS3\n"
     ]
    },
    {
     "name": "stderr",
     "output_type": "stream",
     "text": [
      " 68%|███████████████████████████▊             | 191/282 [02:44<01:08,  1.33it/s]"
     ]
    },
    {
     "name": "stdout",
     "output_type": "stream",
     "text": [
      "Mean Squared Error (out of sample): 2.7165514513620117e-08, site: US-CS4\n",
      "R² Score (out of sample): -134830815.1132467, site:US-CS4\n"
     ]
    },
    {
     "name": "stderr",
     "output_type": "stream",
     "text": [
      " 68%|███████████████████████████▉             | 192/282 [02:45<01:08,  1.32it/s]"
     ]
    },
    {
     "name": "stdout",
     "output_type": "stream",
     "text": [
      "Mean Squared Error (out of sample): 2.789362976836283e-09, site: US-EDN\n",
      "R² Score (out of sample): -2615333.17603219, site:US-EDN\n"
     ]
    },
    {
     "name": "stderr",
     "output_type": "stream",
     "text": [
      " 68%|████████████████████████████             | 193/282 [02:46<01:10,  1.27it/s]"
     ]
    },
    {
     "name": "stdout",
     "output_type": "stream",
     "text": [
      "Mean Squared Error (out of sample): 9.530170729680544e-09, site: US-GLE\n",
      "R² Score (out of sample): -3686231.053233835, site:US-GLE\n"
     ]
    },
    {
     "name": "stderr",
     "output_type": "stream",
     "text": [
      " 69%|████████████████████████████▏            | 194/282 [02:47<01:30,  1.03s/it]"
     ]
    },
    {
     "name": "stdout",
     "output_type": "stream",
     "text": [
      "Mean Squared Error (out of sample): 1.3172138942738358e-08, site: US-Goo\n",
      "R² Score (out of sample): -2232004.7205286073, site:US-Goo\n"
     ]
    },
    {
     "name": "stderr",
     "output_type": "stream",
     "text": [
      " 69%|████████████████████████████▎            | 195/282 [02:48<01:20,  1.08it/s]"
     ]
    },
    {
     "name": "stdout",
     "output_type": "stream",
     "text": [
      "Mean Squared Error (out of sample): 8.930395278037431e-09, site: US-HB1\n",
      "R² Score (out of sample): -23191521.792120226, site:US-HB1\n"
     ]
    },
    {
     "name": "stderr",
     "output_type": "stream",
     "text": [
      " 70%|████████████████████████████▍            | 196/282 [02:49<01:12,  1.19it/s]"
     ]
    },
    {
     "name": "stdout",
     "output_type": "stream",
     "text": [
      "Mean Squared Error (out of sample): 1.2124408550525209e-08, site: US-HWB\n",
      "R² Score (out of sample): -1008388.447619457, site:US-HWB\n"
     ]
    },
    {
     "name": "stderr",
     "output_type": "stream",
     "text": [
      " 70%|████████████████████████████▋            | 197/282 [02:49<01:05,  1.29it/s]"
     ]
    },
    {
     "name": "stdout",
     "output_type": "stream",
     "text": [
      "Mean Squared Error (out of sample): 1.4711562121398946e-10, site: US-Hn3\n",
      "R² Score (out of sample): -369009.17959376937, site:US-Hn3\n"
     ]
    },
    {
     "name": "stderr",
     "output_type": "stream",
     "text": [
      " 70%|████████████████████████████▊            | 198/282 [02:50<01:05,  1.28it/s]"
     ]
    },
    {
     "name": "stdout",
     "output_type": "stream",
     "text": [
      "Mean Squared Error (out of sample): 1.1913012041885378e-08, site: US-Ho2\n",
      "R² Score (out of sample): -1279465.120710229, site:US-Ho2\n"
     ]
    },
    {
     "name": "stderr",
     "output_type": "stream",
     "text": [
      " 71%|████████████████████████████▉            | 199/282 [02:52<01:18,  1.06it/s]"
     ]
    },
    {
     "name": "stdout",
     "output_type": "stream",
     "text": [
      "Mean Squared Error (out of sample): 3.1980602384647785e-08, site: US-IB2\n",
      "R² Score (out of sample): -4232582.308211794, site:US-IB2\n"
     ]
    },
    {
     "name": "stderr",
     "output_type": "stream",
     "text": [
      " 71%|█████████████████████████████            | 200/282 [02:52<01:12,  1.13it/s]"
     ]
    },
    {
     "name": "stdout",
     "output_type": "stream",
     "text": [
      "Mean Squared Error (out of sample): 1.116774226167968e-07, site: US-ICs\n",
      "R² Score (out of sample): -515211192.94776946, site:US-ICs\n"
     ]
    },
    {
     "name": "stderr",
     "output_type": "stream",
     "text": [
      " 71%|█████████████████████████████▏           | 201/282 [02:53<01:12,  1.12it/s]"
     ]
    },
    {
     "name": "stdout",
     "output_type": "stream",
     "text": [
      "Mean Squared Error (out of sample): 8.47348582152009e-08, site: US-ICt\n",
      "R² Score (out of sample): -283972159.8182751, site:US-ICt\n"
     ]
    },
    {
     "name": "stderr",
     "output_type": "stream",
     "text": [
      " 72%|█████████████████████████████▎           | 202/282 [02:54<01:05,  1.23it/s]"
     ]
    },
    {
     "name": "stdout",
     "output_type": "stream",
     "text": [
      "Mean Squared Error (out of sample): 1.260937069522638e-07, site: US-Ivo\n",
      "R² Score (out of sample): -139208962.3645151, site:US-Ivo\n"
     ]
    },
    {
     "name": "stderr",
     "output_type": "stream",
     "text": [
      " 72%|█████████████████████████████▌           | 203/282 [02:55<01:03,  1.25it/s]"
     ]
    },
    {
     "name": "stdout",
     "output_type": "stream",
     "text": [
      "Mean Squared Error (out of sample): 3.885577265704231e-09, site: US-Jo2\n",
      "R² Score (out of sample): -6461028.451814406, site:US-Jo2\n"
     ]
    },
    {
     "name": "stderr",
     "output_type": "stream",
     "text": [
      " 72%|█████████████████████████████▋           | 204/282 [02:55<01:03,  1.23it/s]"
     ]
    },
    {
     "name": "stdout",
     "output_type": "stream",
     "text": [
      "Mean Squared Error (out of sample): 3.9155809378526185e-08, site: US-KFS\n",
      "R² Score (out of sample): -10059174.096381867, site:US-KFS\n"
     ]
    },
    {
     "name": "stderr",
     "output_type": "stream",
     "text": [
      " 73%|█████████████████████████████▊           | 205/282 [02:57<01:09,  1.11it/s]"
     ]
    },
    {
     "name": "stdout",
     "output_type": "stream",
     "text": [
      "Mean Squared Error (out of sample): 2.6455288749611794e-08, site: US-KLS\n",
      "R² Score (out of sample): -3140081.5119402157, site:US-KLS\n"
     ]
    },
    {
     "name": "stderr",
     "output_type": "stream",
     "text": [
      " 73%|█████████████████████████████▉           | 206/282 [02:57<01:03,  1.19it/s]"
     ]
    },
    {
     "name": "stdout",
     "output_type": "stream",
     "text": [
      "Mean Squared Error (out of sample): 2.941074886800445e-10, site: US-KS1\n",
      "R² Score (out of sample): -65820.22661798276, site:US-KS1\n"
     ]
    },
    {
     "name": "stderr",
     "output_type": "stream",
     "text": [
      " 73%|██████████████████████████████           | 207/282 [02:58<00:59,  1.26it/s]"
     ]
    },
    {
     "name": "stdout",
     "output_type": "stream",
     "text": [
      "Mean Squared Error (out of sample): 1.5168553217316153e-09, site: US-KS2\n",
      "R² Score (out of sample): -267355.5950258118, site:US-KS2\n"
     ]
    },
    {
     "name": "stderr",
     "output_type": "stream",
     "text": [
      " 74%|██████████████████████████████▏          | 208/282 [02:59<00:55,  1.33it/s]"
     ]
    },
    {
     "name": "stdout",
     "output_type": "stream",
     "text": [
      "Mean Squared Error (out of sample): 7.376598008359775e-08, site: US-KS3\n",
      "R² Score (out of sample): -36394608.65081033, site:US-KS3\n"
     ]
    },
    {
     "name": "stderr",
     "output_type": "stream",
     "text": [
      " 74%|██████████████████████████████▍          | 209/282 [02:59<00:57,  1.27it/s]"
     ]
    },
    {
     "name": "stdout",
     "output_type": "stream",
     "text": [
      "Mean Squared Error (out of sample): 3.918702573001225e-08, site: US-LWW\n",
      "R² Score (out of sample): -67398195.98456785, site:US-LWW\n"
     ]
    },
    {
     "name": "stderr",
     "output_type": "stream",
     "text": [
      " 74%|██████████████████████████████▌          | 210/282 [03:00<00:55,  1.31it/s]"
     ]
    },
    {
     "name": "stdout",
     "output_type": "stream",
     "text": [
      "Mean Squared Error (out of sample): 2.0943047201019705e-08, site: US-Lin\n",
      "R² Score (out of sample): -22863167.682308134, site:US-Lin\n"
     ]
    },
    {
     "name": "stderr",
     "output_type": "stream",
     "text": [
      " 75%|██████████████████████████████▋          | 211/282 [03:01<00:55,  1.27it/s]"
     ]
    },
    {
     "name": "stdout",
     "output_type": "stream",
     "text": [
      "Mean Squared Error (out of sample): 2.5901916485584453e-08, site: US-MOz\n",
      "R² Score (out of sample): -3344134.008483986, site:US-MOz\n"
     ]
    },
    {
     "name": "stderr",
     "output_type": "stream",
     "text": [
      " 75%|██████████████████████████████▊          | 212/282 [03:02<01:05,  1.07it/s]"
     ]
    },
    {
     "name": "stdout",
     "output_type": "stream",
     "text": [
      "Mean Squared Error (out of sample): 3.82732953553508e-11, site: US-Me1\n",
      "R² Score (out of sample): -24125.05456382008, site:US-Me1\n"
     ]
    },
    {
     "name": "stderr",
     "output_type": "stream",
     "text": [
      " 76%|██████████████████████████████▉          | 213/282 [03:03<01:01,  1.12it/s]"
     ]
    },
    {
     "name": "stdout",
     "output_type": "stream",
     "text": [
      "Mean Squared Error (out of sample): 7.02981094657393e-09, site: US-Me2\n",
      "R² Score (out of sample): -1261784.865792695, site:US-Me2\n"
     ]
    },
    {
     "name": "stderr",
     "output_type": "stream",
     "text": [
      " 76%|███████████████████████████████          | 214/282 [03:04<01:00,  1.12it/s]"
     ]
    },
    {
     "name": "stdout",
     "output_type": "stream",
     "text": [
      "Mean Squared Error (out of sample): 2.9011971436754447e-09, site: US-Me3\n",
      "R² Score (out of sample): -2125812.4936422342, site:US-Me3\n"
     ]
    },
    {
     "name": "stderr",
     "output_type": "stream",
     "text": [
      " 76%|███████████████████████████████▎         | 215/282 [03:05<00:54,  1.23it/s]"
     ]
    },
    {
     "name": "stdout",
     "output_type": "stream",
     "text": [
      "Mean Squared Error (out of sample): 1.1423504444363348e-09, site: US-Me4\n",
      "R² Score (out of sample): -382937.55433623056, site:US-Me4\n"
     ]
    },
    {
     "name": "stderr",
     "output_type": "stream",
     "text": [
      " 77%|███████████████████████████████▍         | 216/282 [03:05<00:49,  1.32it/s]"
     ]
    },
    {
     "name": "stdout",
     "output_type": "stream",
     "text": [
      "Mean Squared Error (out of sample): 4.253489678100103e-09, site: US-Me5\n",
      "R² Score (out of sample): -2259173.7737683966, site:US-Me5\n"
     ]
    },
    {
     "name": "stderr",
     "output_type": "stream",
     "text": [
      " 77%|███████████████████████████████▌         | 217/282 [03:06<00:46,  1.40it/s]"
     ]
    },
    {
     "name": "stdout",
     "output_type": "stream",
     "text": [
      "Mean Squared Error (out of sample): 1.9645687327034544e-09, site: US-Me6\n",
      "R² Score (out of sample): -996234.7145075081, site:US-Me6\n"
     ]
    },
    {
     "name": "stderr",
     "output_type": "stream",
     "text": [
      " 77%|███████████████████████████████▋         | 218/282 [03:07<00:45,  1.40it/s]"
     ]
    },
    {
     "name": "stdout",
     "output_type": "stream",
     "text": [
      "Mean Squared Error (out of sample): 1.0468102484573091e-08, site: US-Mpj\n",
      "R² Score (out of sample): -31040219.784731597, site:US-Mpj\n"
     ]
    },
    {
     "name": "stderr",
     "output_type": "stream",
     "text": [
      " 78%|███████████████████████████████▊         | 219/282 [03:07<00:47,  1.33it/s]"
     ]
    },
    {
     "name": "stdout",
     "output_type": "stream",
     "text": [
      "Mean Squared Error (out of sample): 3.799147425256099e-09, site: US-Myb\n",
      "R² Score (out of sample): -487119.63705523475, site:US-Myb\n"
     ]
    },
    {
     "name": "stderr",
     "output_type": "stream",
     "text": [
      " 78%|███████████████████████████████▉         | 220/282 [03:09<00:54,  1.15it/s]"
     ]
    },
    {
     "name": "stdout",
     "output_type": "stream",
     "text": [
      "Mean Squared Error (out of sample): 2.376885932789169e-08, site: US-NC1\n",
      "R² Score (out of sample): -1102532.6521260326, site:US-NC1\n"
     ]
    },
    {
     "name": "stderr",
     "output_type": "stream",
     "text": [
      " 78%|████████████████████████████████▏        | 221/282 [03:09<00:52,  1.16it/s]"
     ]
    },
    {
     "name": "stdout",
     "output_type": "stream",
     "text": [
      "Mean Squared Error (out of sample): 1.717053193633042e-08, site: US-NC4\n",
      "R² Score (out of sample): -1688556.9621080882, site:US-NC4\n"
     ]
    },
    {
     "name": "stderr",
     "output_type": "stream",
     "text": [
      " 79%|████████████████████████████████▎        | 222/282 [03:11<00:57,  1.04it/s]"
     ]
    },
    {
     "name": "stdout",
     "output_type": "stream",
     "text": [
      "Mean Squared Error (out of sample): 9.223270793166593e-09, site: US-NR1\n",
      "R² Score (out of sample): -3028044.8645688803, site:US-NR1\n"
     ]
    },
    {
     "name": "stderr",
     "output_type": "stream",
     "text": [
      " 79%|████████████████████████████████▍        | 223/282 [03:12<00:57,  1.03it/s]"
     ]
    },
    {
     "name": "stdout",
     "output_type": "stream",
     "text": [
      "Mean Squared Error (out of sample): 1.3254376101236007e-09, site: US-ONA\n",
      "R² Score (out of sample): -201855.62434914106, site:US-ONA\n"
     ]
    },
    {
     "name": "stderr",
     "output_type": "stream",
     "text": [
      " 79%|████████████████████████████████▌        | 224/282 [03:12<00:50,  1.15it/s]"
     ]
    },
    {
     "name": "stdout",
     "output_type": "stream",
     "text": [
      "Mean Squared Error (out of sample): 2.247656467758842e-09, site: US-OWC\n",
      "R² Score (out of sample): -466951.40130071365, site:US-OWC\n"
     ]
    },
    {
     "name": "stderr",
     "output_type": "stream",
     "text": [
      " 80%|████████████████████████████████▋        | 225/282 [03:13<00:47,  1.21it/s]"
     ]
    },
    {
     "name": "stdout",
     "output_type": "stream",
     "text": [
      "Mean Squared Error (out of sample): 2.8224487590126387e-08, site: US-Oho\n",
      "R² Score (out of sample): -2100130.4696740774, site:US-Oho\n"
     ]
    },
    {
     "name": "stderr",
     "output_type": "stream",
     "text": [
      " 80%|████████████████████████████████▊        | 226/282 [03:14<00:43,  1.29it/s]"
     ]
    },
    {
     "name": "stdout",
     "output_type": "stream",
     "text": [
      "Mean Squared Error (out of sample): 1.8848505462380393e-08, site: US-Prr\n",
      "R² Score (out of sample): -23746520.98655327, site:US-Prr\n"
     ]
    },
    {
     "name": "stderr",
     "output_type": "stream",
     "text": [
      " 80%|█████████████████████████████████        | 227/282 [03:14<00:42,  1.30it/s]"
     ]
    },
    {
     "name": "stdout",
     "output_type": "stream",
     "text": [
      "Mean Squared Error (out of sample): 2.281311969810014e-08, site: US-Ro1\n",
      "R² Score (out of sample): -1938602.5229636703, site:US-Ro1\n"
     ]
    },
    {
     "name": "stderr",
     "output_type": "stream",
     "text": [
      " 81%|█████████████████████████████████▏       | 228/282 [03:15<00:40,  1.33it/s]"
     ]
    },
    {
     "name": "stdout",
     "output_type": "stream",
     "text": [
      "Mean Squared Error (out of sample): 2.0275857230784426e-08, site: US-Ro4\n",
      "R² Score (out of sample): -2584131.4923767145, site:US-Ro4\n"
     ]
    },
    {
     "name": "stderr",
     "output_type": "stream",
     "text": [
      " 81%|█████████████████████████████████▎       | 229/282 [03:16<00:40,  1.32it/s]"
     ]
    },
    {
     "name": "stdout",
     "output_type": "stream",
     "text": [
      "Mean Squared Error (out of sample): 2.24533437501392e-08, site: US-Ro5\n",
      "R² Score (out of sample): -1139336.9899591608, site:US-Ro5\n"
     ]
    },
    {
     "name": "stderr",
     "output_type": "stream",
     "text": [
      " 82%|█████████████████████████████████▍       | 230/282 [03:16<00:38,  1.37it/s]"
     ]
    },
    {
     "name": "stdout",
     "output_type": "stream",
     "text": [
      "Mean Squared Error (out of sample): 2.2995586624872838e-08, site: US-Ro6\n",
      "R² Score (out of sample): -5713097.780983579, site:US-Ro6\n"
     ]
    },
    {
     "name": "stderr",
     "output_type": "stream",
     "text": [
      " 82%|█████████████████████████████████▌       | 231/282 [03:17<00:38,  1.33it/s]"
     ]
    },
    {
     "name": "stdout",
     "output_type": "stream",
     "text": [
      "Mean Squared Error (out of sample): 4.991439339014758e-09, site: US-SRC\n",
      "R² Score (out of sample): -109766886.49552605, site:US-SRC\n"
     ]
    },
    {
     "name": "stderr",
     "output_type": "stream",
     "text": [
      " 82%|█████████████████████████████████▋       | 232/282 [03:18<00:41,  1.22it/s]"
     ]
    },
    {
     "name": "stdout",
     "output_type": "stream",
     "text": [
      "Mean Squared Error (out of sample): 4.587078621861241e-09, site: US-SRG\n",
      "R² Score (out of sample): -4015684.0575563577, site:US-SRG\n"
     ]
    },
    {
     "name": "stderr",
     "output_type": "stream",
     "text": [
      " 83%|█████████████████████████████████▉       | 233/282 [03:19<00:44,  1.11it/s]"
     ]
    },
    {
     "name": "stdout",
     "output_type": "stream",
     "text": [
      "Mean Squared Error (out of sample): 4.49559850523366e-09, site: US-SRM\n",
      "R² Score (out of sample): -10588826.63206725, site:US-SRM\n"
     ]
    },
    {
     "name": "stderr",
     "output_type": "stream",
     "text": [
      " 83%|██████████████████████████████████       | 234/282 [03:21<00:46,  1.02it/s]"
     ]
    },
    {
     "name": "stdout",
     "output_type": "stream",
     "text": [
      "Mean Squared Error (out of sample): 8.460907565841025e-09, site: US-Seg\n",
      "R² Score (out of sample): -45868981.26686843, site:US-Seg\n"
     ]
    },
    {
     "name": "stderr",
     "output_type": "stream",
     "text": [
      " 83%|██████████████████████████████████▏      | 235/282 [03:22<00:48,  1.03s/it]"
     ]
    },
    {
     "name": "stdout",
     "output_type": "stream",
     "text": [
      "Mean Squared Error (out of sample): 1.1300699109593664e-08, site: US-Ses\n",
      "R² Score (out of sample): -118969095.75484717, site:US-Ses\n"
     ]
    },
    {
     "name": "stderr",
     "output_type": "stream",
     "text": [
      " 84%|██████████████████████████████████▎      | 236/282 [03:22<00:42,  1.08it/s]"
     ]
    },
    {
     "name": "stdout",
     "output_type": "stream",
     "text": [
      "Mean Squared Error (out of sample): 3.490885665548106e-11, site: US-Sne\n",
      "R² Score (out of sample): -19419.91843408313, site:US-Sne\n"
     ]
    },
    {
     "name": "stderr",
     "output_type": "stream",
     "text": [
      " 84%|██████████████████████████████████▍      | 237/282 [03:23<00:39,  1.14it/s]"
     ]
    },
    {
     "name": "stdout",
     "output_type": "stream",
     "text": [
      "Mean Squared Error (out of sample): 2.0544926341486024e-08, site: US-Snf\n",
      "R² Score (out of sample): -6500126.183364429, site:US-Snf\n"
     ]
    },
    {
     "name": "stderr",
     "output_type": "stream",
     "text": [
      " 84%|██████████████████████████████████▌      | 238/282 [03:24<00:36,  1.20it/s]"
     ]
    },
    {
     "name": "stdout",
     "output_type": "stream",
     "text": [
      "Mean Squared Error (out of sample): 3.8913511032055757e-08, site: US-Ton\n",
      "R² Score (out of sample): -14840508.094011804, site:US-Ton\n"
     ]
    },
    {
     "name": "stderr",
     "output_type": "stream",
     "text": [
      " 85%|██████████████████████████████████▋      | 239/282 [03:25<00:33,  1.27it/s]"
     ]
    },
    {
     "name": "stdout",
     "output_type": "stream",
     "text": [
      "Mean Squared Error (out of sample): 5.436500543608386e-09, site: US-Tw3\n",
      "R² Score (out of sample): -834814.821901595, site:US-Tw3\n"
     ]
    },
    {
     "name": "stderr",
     "output_type": "stream",
     "text": [
      " 85%|██████████████████████████████████▉      | 240/282 [03:25<00:30,  1.36it/s]"
     ]
    },
    {
     "name": "stdout",
     "output_type": "stream",
     "text": [
      "Mean Squared Error (out of sample): 1.724139313016347e-09, site: US-Tw4\n",
      "R² Score (out of sample): -541232.6700420826, site:US-Tw4\n"
     ]
    },
    {
     "name": "stderr",
     "output_type": "stream",
     "text": [
      " 85%|███████████████████████████████████      | 241/282 [03:26<00:29,  1.40it/s]"
     ]
    },
    {
     "name": "stdout",
     "output_type": "stream",
     "text": [
      "Mean Squared Error (out of sample): 7.509039414625265e-09, site: US-Twt\n",
      "R² Score (out of sample): -723715.4565630301, site:US-Twt\n"
     ]
    },
    {
     "name": "stderr",
     "output_type": "stream",
     "text": [
      " 86%|███████████████████████████████████▏     | 242/282 [03:27<00:35,  1.13it/s]"
     ]
    },
    {
     "name": "stdout",
     "output_type": "stream",
     "text": [
      "Mean Squared Error (out of sample): 3.6876109831457636e-08, site: US-Var\n",
      "R² Score (out of sample): -12059585.280920358, site:US-Var\n"
     ]
    },
    {
     "name": "stderr",
     "output_type": "stream",
     "text": [
      " 86%|███████████████████████████████████▎     | 243/282 [03:28<00:38,  1.02it/s]"
     ]
    },
    {
     "name": "stdout",
     "output_type": "stream",
     "text": [
      "Mean Squared Error (out of sample): 1.157178304865676e-11, site: US-WPT\n",
      "R² Score (out of sample): -3614.876715036056, site:US-WPT\n"
     ]
    },
    {
     "name": "stderr",
     "output_type": "stream",
     "text": [
      " 87%|███████████████████████████████████▍     | 244/282 [03:29<00:33,  1.12it/s]"
     ]
    },
    {
     "name": "stdout",
     "output_type": "stream",
     "text": [
      "Mean Squared Error (out of sample): 2.2438660158085446e-08, site: US-Whs\n",
      "R² Score (out of sample): -139374198.5697272, site:US-Whs\n"
     ]
    },
    {
     "name": "stderr",
     "output_type": "stream",
     "text": [
      " 87%|███████████████████████████████████▌     | 245/282 [03:30<00:31,  1.18it/s]"
     ]
    },
    {
     "name": "stdout",
     "output_type": "stream",
     "text": [
      "Mean Squared Error (out of sample): 1.7771901635167164e-08, site: US-Wi0\n",
      "R² Score (out of sample): -65147581.39820718, site:US-Wi0\n"
     ]
    },
    {
     "name": "stderr",
     "output_type": "stream",
     "text": [
      " 87%|███████████████████████████████████▊     | 246/282 [03:30<00:27,  1.29it/s]"
     ]
    },
    {
     "name": "stdout",
     "output_type": "stream",
     "text": [
      "Mean Squared Error (out of sample): 4.3254204217031894e-08, site: US-Wi1\n",
      "R² Score (out of sample): -505889721.5159214, site:US-Wi1\n"
     ]
    },
    {
     "name": "stderr",
     "output_type": "stream",
     "text": [
      " 88%|███████████████████████████████████▉     | 247/282 [03:31<00:26,  1.31it/s]"
     ]
    },
    {
     "name": "stdout",
     "output_type": "stream",
     "text": [
      "Mean Squared Error (out of sample): 2.947867464788647e-08, site: US-Wi2\n",
      "R² Score (out of sample): -12976791.00037298, site:US-Wi2\n"
     ]
    },
    {
     "name": "stderr",
     "output_type": "stream",
     "text": [
      " 88%|████████████████████████████████████     | 248/282 [03:32<00:25,  1.32it/s]"
     ]
    },
    {
     "name": "stdout",
     "output_type": "stream",
     "text": [
      "Mean Squared Error (out of sample): 1.9300255309144096e-08, site: US-Wi4\n",
      "R² Score (out of sample): -2323475.7419797536, site:US-Wi4\n"
     ]
    },
    {
     "name": "stderr",
     "output_type": "stream",
     "text": [
      " 88%|████████████████████████████████████▏    | 249/282 [03:32<00:23,  1.40it/s]"
     ]
    },
    {
     "name": "stdout",
     "output_type": "stream",
     "text": [
      "Mean Squared Error (out of sample): 3.7870940248741366e-08, site: US-Wi5\n",
      "R² Score (out of sample): -180976820.242939, site:US-Wi5\n"
     ]
    },
    {
     "name": "stderr",
     "output_type": "stream",
     "text": [
      " 89%|████████████████████████████████████▎    | 250/282 [03:33<00:24,  1.30it/s]"
     ]
    },
    {
     "name": "stdout",
     "output_type": "stream",
     "text": [
      "Mean Squared Error (out of sample): 2.6341313526580043e-08, site: US-Wi6\n",
      "R² Score (out of sample): -66611276.69947845, site:US-Wi6\n"
     ]
    },
    {
     "name": "stderr",
     "output_type": "stream",
     "text": [
      " 89%|████████████████████████████████████▍    | 251/282 [03:34<00:24,  1.27it/s]"
     ]
    },
    {
     "name": "stdout",
     "output_type": "stream",
     "text": [
      "Mean Squared Error (out of sample): 3.464970235428492e-08, site: US-Wi7\n",
      "R² Score (out of sample): -125734357.94093978, site:US-Wi7\n"
     ]
    },
    {
     "name": "stderr",
     "output_type": "stream",
     "text": [
      " 89%|████████████████████████████████████▋    | 252/282 [03:35<00:23,  1.25it/s]"
     ]
    },
    {
     "name": "stdout",
     "output_type": "stream",
     "text": [
      "Mean Squared Error (out of sample): 3.714285402279652e-08, site: US-Wi8\n",
      "R² Score (out of sample): -468706738.80884606, site:US-Wi8\n"
     ]
    },
    {
     "name": "stderr",
     "output_type": "stream",
     "text": [
      " 90%|████████████████████████████████████▊    | 253/282 [03:36<00:23,  1.25it/s]"
     ]
    },
    {
     "name": "stdout",
     "output_type": "stream",
     "text": [
      "Mean Squared Error (out of sample): 1.7771901635246047e-08, site: US-Wi9\n",
      "R² Score (out of sample): -20290812.20082383, site:US-Wi9\n"
     ]
    },
    {
     "name": "stderr",
     "output_type": "stream",
     "text": [
      " 90%|████████████████████████████████████▉    | 254/282 [03:37<00:25,  1.12it/s]"
     ]
    },
    {
     "name": "stdout",
     "output_type": "stream",
     "text": [
      "Mean Squared Error (out of sample): 6.52236672744256e-09, site: US-Wjs\n",
      "R² Score (out of sample): -8985917.921307709, site:US-Wjs\n"
     ]
    },
    {
     "name": "stderr",
     "output_type": "stream",
     "text": [
      " 90%|█████████████████████████████████████    | 255/282 [03:39<00:32,  1.19s/it]"
     ]
    },
    {
     "name": "stdout",
     "output_type": "stream",
     "text": [
      "Mean Squared Error (out of sample): 5.920658473577514e-09, site: US-Wkg\n",
      "R² Score (out of sample): -11311399.192842256, site:US-Wkg\n"
     ]
    },
    {
     "name": "stderr",
     "output_type": "stream",
     "text": [
      " 91%|█████████████████████████████████████▏   | 256/282 [03:40<00:28,  1.11s/it]"
     ]
    },
    {
     "name": "stdout",
     "output_type": "stream",
     "text": [
      "Mean Squared Error (out of sample): 3.6252688999997496e-08, site: US-xAE\n",
      "R² Score (out of sample): -12323888.693372197, site:US-xAE\n"
     ]
    },
    {
     "name": "stderr",
     "output_type": "stream",
     "text": [
      " 91%|█████████████████████████████████████▎   | 257/282 [03:40<00:24,  1.01it/s]"
     ]
    },
    {
     "name": "stdout",
     "output_type": "stream",
     "text": [
      "Mean Squared Error (out of sample): 1.06111012955078e-08, site: US-xBR\n",
      "R² Score (out of sample): -1596608.7642645047, site:US-xBR\n"
     ]
    },
    {
     "name": "stderr",
     "output_type": "stream",
     "text": [
      " 91%|█████████████████████████████████████▌   | 258/282 [03:41<00:21,  1.13it/s]"
     ]
    },
    {
     "name": "stdout",
     "output_type": "stream",
     "text": [
      "Mean Squared Error (out of sample): 4.322617191202046e-08, site: US-xCL\n",
      "R² Score (out of sample): -4874063.194602783, site:US-xCL\n"
     ]
    },
    {
     "name": "stderr",
     "output_type": "stream",
     "text": [
      " 92%|█████████████████████████████████████▋   | 259/282 [03:42<00:18,  1.23it/s]"
     ]
    },
    {
     "name": "stdout",
     "output_type": "stream",
     "text": [
      "Mean Squared Error (out of sample): 1.1281425446801246e-08, site: US-xCP\n",
      "R² Score (out of sample): -18885137.74410319, site:US-xCP\n"
     ]
    },
    {
     "name": "stderr",
     "output_type": "stream",
     "text": [
      " 92%|█████████████████████████████████████▊   | 260/282 [03:43<00:18,  1.19it/s]"
     ]
    },
    {
     "name": "stdout",
     "output_type": "stream",
     "text": [
      "Mean Squared Error (out of sample): 8.010542256207971e-09, site: US-xDC\n",
      "R² Score (out of sample): -6988484.133073988, site:US-xDC\n"
     ]
    },
    {
     "name": "stderr",
     "output_type": "stream",
     "text": [
      " 93%|█████████████████████████████████████▉   | 261/282 [03:43<00:16,  1.27it/s]"
     ]
    },
    {
     "name": "stdout",
     "output_type": "stream",
     "text": [
      "Mean Squared Error (out of sample): 2.7610236898131897e-08, site: US-xDL\n",
      "R² Score (out of sample): -1627961.7793687934, site:US-xDL\n"
     ]
    },
    {
     "name": "stderr",
     "output_type": "stream",
     "text": [
      " 93%|██████████████████████████████████████   | 262/282 [03:44<00:16,  1.20it/s]"
     ]
    },
    {
     "name": "stdout",
     "output_type": "stream",
     "text": [
      "Mean Squared Error (out of sample): 1.3730054079602578e-09, site: US-xDS\n",
      "R² Score (out of sample): -361773.3529335545, site:US-xDS\n"
     ]
    },
    {
     "name": "stderr",
     "output_type": "stream",
     "text": [
      " 93%|██████████████████████████████████████▏  | 263/282 [03:45<00:15,  1.24it/s]"
     ]
    },
    {
     "name": "stdout",
     "output_type": "stream",
     "text": [
      "Mean Squared Error (out of sample): 1.5650398315439774e-10, site: US-xGR\n",
      "R² Score (out of sample): -9378.622834028685, site:US-xGR\n"
     ]
    },
    {
     "name": "stderr",
     "output_type": "stream",
     "text": [
      " 94%|██████████████████████████████████████▍  | 264/282 [03:46<00:13,  1.29it/s]"
     ]
    },
    {
     "name": "stdout",
     "output_type": "stream",
     "text": [
      "Mean Squared Error (out of sample): 2.5852963203713106e-08, site: US-xHA\n",
      "R² Score (out of sample): -2282507.3409955837, site:US-xHA\n"
     ]
    },
    {
     "name": "stderr",
     "output_type": "stream",
     "text": [
      " 94%|██████████████████████████████████████▌  | 265/282 [03:46<00:13,  1.26it/s]"
     ]
    },
    {
     "name": "stdout",
     "output_type": "stream",
     "text": [
      "Mean Squared Error (out of sample): 1.6831655007386718e-09, site: US-xHE\n",
      "R² Score (out of sample): -2252301.7404066846, site:US-xHE\n"
     ]
    },
    {
     "name": "stderr",
     "output_type": "stream",
     "text": [
      " 94%|██████████████████████████████████████▋  | 266/282 [03:47<00:12,  1.28it/s]"
     ]
    },
    {
     "name": "stdout",
     "output_type": "stream",
     "text": [
      "Mean Squared Error (out of sample): 3.5842658912052065e-08, site: US-xJE\n",
      "R² Score (out of sample): -2795299.0670360476, site:US-xJE\n"
     ]
    },
    {
     "name": "stderr",
     "output_type": "stream",
     "text": [
      " 95%|██████████████████████████████████████▊  | 267/282 [03:48<00:12,  1.24it/s]"
     ]
    },
    {
     "name": "stdout",
     "output_type": "stream",
     "text": [
      "Mean Squared Error (out of sample): 2.4329479420741815e-08, site: US-xKA\n",
      "R² Score (out of sample): -5139492.188289608, site:US-xKA\n"
     ]
    },
    {
     "name": "stderr",
     "output_type": "stream",
     "text": [
      " 95%|██████████████████████████████████████▉  | 268/282 [03:49<00:11,  1.24it/s]"
     ]
    },
    {
     "name": "stdout",
     "output_type": "stream",
     "text": [
      "Mean Squared Error (out of sample): 2.5738055950668043e-08, site: US-xKZ\n",
      "R² Score (out of sample): -5732860.777681694, site:US-xKZ\n"
     ]
    },
    {
     "name": "stderr",
     "output_type": "stream",
     "text": [
      " 95%|███████████████████████████████████████  | 269/282 [03:50<00:11,  1.18it/s]"
     ]
    },
    {
     "name": "stdout",
     "output_type": "stream",
     "text": [
      "Mean Squared Error (out of sample): 4.4862732007483816e-09, site: US-xMB\n",
      "R² Score (out of sample): -35812177.31859581, site:US-xMB\n"
     ]
    },
    {
     "name": "stderr",
     "output_type": "stream",
     "text": [
      " 96%|███████████████████████████████████████▎ | 270/282 [03:51<00:09,  1.26it/s]"
     ]
    },
    {
     "name": "stdout",
     "output_type": "stream",
     "text": [
      "Mean Squared Error (out of sample): 5.003698794686315e-09, site: US-xML\n",
      "R² Score (out of sample): -2208767.5533916727, site:US-xML\n"
     ]
    },
    {
     "name": "stderr",
     "output_type": "stream",
     "text": [
      " 96%|███████████████████████████████████████▍ | 271/282 [03:51<00:08,  1.30it/s]"
     ]
    },
    {
     "name": "stdout",
     "output_type": "stream",
     "text": [
      "Mean Squared Error (out of sample): 6.448097351217551e-09, site: US-xNG\n",
      "R² Score (out of sample): -11589267.017778879, site:US-xNG\n"
     ]
    },
    {
     "name": "stderr",
     "output_type": "stream",
     "text": [
      " 96%|███████████████████████████████████████▌ | 272/282 [03:52<00:07,  1.37it/s]"
     ]
    },
    {
     "name": "stdout",
     "output_type": "stream",
     "text": [
      "Mean Squared Error (out of sample): 1.3254376101356353e-09, site: US-xNQ\n",
      "R² Score (out of sample): -9569152.858644309, site:US-xNQ\n"
     ]
    },
    {
     "name": "stderr",
     "output_type": "stream",
     "text": [
      " 97%|███████████████████████████████████████▋ | 273/282 [03:53<00:06,  1.35it/s]"
     ]
    },
    {
     "name": "stdout",
     "output_type": "stream",
     "text": [
      "Mean Squared Error (out of sample): 1.311443211035159e-08, site: US-xRM\n",
      "R² Score (out of sample): -10918880.172972236, site:US-xRM\n"
     ]
    },
    {
     "name": "stderr",
     "output_type": "stream",
     "text": [
      " 97%|███████████████████████████████████████▊ | 274/282 [03:53<00:05,  1.37it/s]"
     ]
    },
    {
     "name": "stdout",
     "output_type": "stream",
     "text": [
      "Mean Squared Error (out of sample): 1.9835060849513117e-08, site: US-xSB\n",
      "R² Score (out of sample): -4045417.656075016, site:US-xSB\n"
     ]
    },
    {
     "name": "stderr",
     "output_type": "stream",
     "text": [
      " 98%|███████████████████████████████████████▉ | 275/282 [03:54<00:05,  1.38it/s]"
     ]
    },
    {
     "name": "stdout",
     "output_type": "stream",
     "text": [
      "Mean Squared Error (out of sample): 1.1469461647069321e-08, site: US-xSE\n",
      "R² Score (out of sample): -819253.3428739593, site:US-xSE\n"
     ]
    },
    {
     "name": "stderr",
     "output_type": "stream",
     "text": [
      " 98%|████████████████████████████████████████▏| 276/282 [03:55<00:04,  1.37it/s]"
     ]
    },
    {
     "name": "stdout",
     "output_type": "stream",
     "text": [
      "Mean Squared Error (out of sample): 5.042468234084012e-09, site: US-xSR\n",
      "R² Score (out of sample): -7927510.296458262, site:US-xSR\n"
     ]
    },
    {
     "name": "stderr",
     "output_type": "stream",
     "text": [
      " 98%|████████████████████████████████████████▎| 277/282 [03:56<00:03,  1.37it/s]"
     ]
    },
    {
     "name": "stdout",
     "output_type": "stream",
     "text": [
      "Mean Squared Error (out of sample): 4.308643320897402e-08, site: US-xST\n",
      "R² Score (out of sample): -5799623.556806454, site:US-xST\n"
     ]
    },
    {
     "name": "stderr",
     "output_type": "stream",
     "text": [
      " 99%|████████████████████████████████████████▍| 278/282 [03:56<00:02,  1.40it/s]"
     ]
    },
    {
     "name": "stdout",
     "output_type": "stream",
     "text": [
      "Mean Squared Error (out of sample): 2.447748050345954e-08, site: US-xTA\n",
      "R² Score (out of sample): -2338066.670189434, site:US-xTA\n"
     ]
    },
    {
     "name": "stderr",
     "output_type": "stream",
     "text": [
      " 99%|████████████████████████████████████████▌| 279/282 [03:57<00:02,  1.38it/s]"
     ]
    },
    {
     "name": "stdout",
     "output_type": "stream",
     "text": [
      "Mean Squared Error (out of sample): 3.9437504213715425e-08, site: US-xTR\n",
      "R² Score (out of sample): -4865156.573983598, site:US-xTR\n"
     ]
    },
    {
     "name": "stderr",
     "output_type": "stream",
     "text": [
      " 99%|████████████████████████████████████████▋| 280/282 [03:58<00:01,  1.41it/s]"
     ]
    },
    {
     "name": "stdout",
     "output_type": "stream",
     "text": [
      "Mean Squared Error (out of sample): 3.014384036622647e-08, site: US-xUK\n",
      "R² Score (out of sample): -3444404.3430614257, site:US-xUK\n"
     ]
    },
    {
     "name": "stderr",
     "output_type": "stream",
     "text": [
      "100%|████████████████████████████████████████▊| 281/282 [03:58<00:00,  1.42it/s]"
     ]
    },
    {
     "name": "stdout",
     "output_type": "stream",
     "text": [
      "Mean Squared Error (out of sample): 2.8986509171805234e-08, site: US-xUN\n",
      "R² Score (out of sample): -4613269.552723119, site:US-xUN\n"
     ]
    },
    {
     "name": "stderr",
     "output_type": "stream",
     "text": [
      "100%|█████████████████████████████████████████| 282/282 [03:59<00:00,  1.18it/s]"
     ]
    },
    {
     "name": "stdout",
     "output_type": "stream",
     "text": [
      "Mean Squared Error (out of sample): 1.2881039848106137e-09, site: US-xYE\n",
      "R² Score (out of sample): -634730.5079625467, site:US-xYE\n"
     ]
    },
    {
     "name": "stderr",
     "output_type": "stream",
     "text": [
      "\n"
     ]
    }
   ],
   "source": [
    "# Define the output file\n",
    "output_file = f'{sites[site_idx]}.csv'\n",
    "\n",
    "# Write Shape (Initial Header)\n",
    "with open(output_file, 'w') as f:\n",
    "    f.write(f'# Model: LinearRegression trained on {sites[site_idx]}\\n')\n",
    "    f.write(\"site,mse\\n\")\n",
    "    \n",
    "for site in tqdm(sites):\n",
    "    df = initialize_dataframe(*filtered_files[site])\n",
    "    \n",
    "    df['lag_1'] = df['GPP'].shift(1)\n",
    "    df['lag_2'] = df['GPP'].shift(2)\n",
    "    \n",
    "    #df.dropna(inplace=True)  # Remove rows with NaN values resulting from the shift\n",
    "    \n",
    "    df['rolling_mean'] = df['GPP'].rolling(window=3).mean()\n",
    "    \n",
    "    df['hour'] = df.index.hour\n",
    "    df['day'] = df.index.day\n",
    "    df['month'] = df.index.month\n",
    "    df['year'] = df.index.year\n",
    "    \n",
    "    train_size = int(len(df) * 0.8)\n",
    "    train, test = df.iloc[:train_size], df.iloc[train_size:]\n",
    "\n",
    "    X_train = train.drop(columns=['GPP'])\n",
    "    y_train = train['GPP']\n",
    "    X_test = test.drop(columns=['GPP'])\n",
    "    y_test = test['GPP']\n",
    "    \n",
    "    predictions = model.predict(X_test)\n",
    "    mse = mean_squared_error(y_test, predictions)\n",
    "    print(f\"Mean Squared Error (out of sample): {mse}, site: {site}\")\n",
    "\n",
    "    # Calculate R² Score\n",
    "    r2 = r2_score(y_test, predictions)\n",
    "    print(f\"R² Score (out of sample): {r2}, site:{site}\")\n",
    "\n",
    "    with open(output_file, 'a') as f:\n",
    "        f.write(f\"{site},{mse},{r2}\\n\")"
   ]
  }
 ],
 "metadata": {
  "kernelspec": {
   "display_name": "venv",
   "language": "python",
   "name": "venv"
  },
  "language_info": {
   "codemirror_mode": {
    "name": "ipython",
    "version": 3
   },
   "file_extension": ".py",
   "mimetype": "text/x-python",
   "name": "python",
   "nbconvert_exporter": "python",
   "pygments_lexer": "ipython3",
   "version": "3.11.6"
  }
 },
 "nbformat": 4,
 "nbformat_minor": 5
}
